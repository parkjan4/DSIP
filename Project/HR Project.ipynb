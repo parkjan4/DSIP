{
 "cells": [
  {
   "cell_type": "code",
   "execution_count": 1,
   "metadata": {},
   "outputs": [],
   "source": [
    "# Import packages\n",
    "%matplotlib inline\n",
    "import pandas as pd\n",
    "import numpy as np\n",
    "import matplotlib.pyplot as plt\n",
    "import matplotlib\n",
    "import seaborn as sns\n",
    "import statistics as sts\n",
    "from scipy.stats import ttest_ind\n",
    "from scipy.stats import f_oneway\n",
    "import datetime as dt\n",
    "import sklearn as sk\n",
    "from sklearn import mixture\n",
    "from sklearn import naive_bayes\n",
    "from sklearn import model_selection\n",
    "from sklearn import neighbors\n",
    "from sklearn import decomposition\n",
    "from sklearn import preprocessing\n",
    "from sklearn import ensemble\n",
    "from sklearn import linear_model\n",
    "import networkx as nx"
   ]
  },
  {
   "cell_type": "code",
   "execution_count": 2,
   "metadata": {},
   "outputs": [
    {
     "name": "stdout",
     "output_type": "stream",
     "text": [
      "Number of Individuals (all): 302\n",
      "Number of variables: 21\n"
     ]
    },
    {
     "data": {
      "text/html": [
       "<div>\n",
       "<style scoped>\n",
       "    .dataframe tbody tr th:only-of-type {\n",
       "        vertical-align: middle;\n",
       "    }\n",
       "\n",
       "    .dataframe tbody tr th {\n",
       "        vertical-align: top;\n",
       "    }\n",
       "\n",
       "    .dataframe thead th {\n",
       "        text-align: right;\n",
       "    }\n",
       "</style>\n",
       "<table border=\"1\" class=\"dataframe\">\n",
       "  <thead>\n",
       "    <tr style=\"text-align: right;\">\n",
       "      <th></th>\n",
       "      <th>Employee Name</th>\n",
       "      <th>Employee Number</th>\n",
       "      <th>State</th>\n",
       "      <th>Zip</th>\n",
       "      <th>DOB</th>\n",
       "      <th>Age</th>\n",
       "      <th>Sex</th>\n",
       "      <th>MaritalDesc</th>\n",
       "      <th>CitizenDesc</th>\n",
       "      <th>Hispanic/Latino</th>\n",
       "      <th>...</th>\n",
       "      <th>Date of Hire</th>\n",
       "      <th>Date of Termination</th>\n",
       "      <th>Reason For Term</th>\n",
       "      <th>Employment Status</th>\n",
       "      <th>Department</th>\n",
       "      <th>Position</th>\n",
       "      <th>Pay Rate</th>\n",
       "      <th>Manager Name</th>\n",
       "      <th>Employee Source</th>\n",
       "      <th>Performance Score</th>\n",
       "    </tr>\n",
       "  </thead>\n",
       "  <tbody>\n",
       "    <tr>\n",
       "      <th>296</th>\n",
       "      <td>Patronick, Luke</td>\n",
       "      <td>1.112031e+09</td>\n",
       "      <td>MA</td>\n",
       "      <td>1844.0</td>\n",
       "      <td>2/20/1979</td>\n",
       "      <td>38.0</td>\n",
       "      <td>Male</td>\n",
       "      <td>Single</td>\n",
       "      <td>US Citizen</td>\n",
       "      <td>No</td>\n",
       "      <td>...</td>\n",
       "      <td>11/7/2011</td>\n",
       "      <td>9/7/2015</td>\n",
       "      <td>Another position</td>\n",
       "      <td>Voluntarily Terminated</td>\n",
       "      <td>Software Engineering</td>\n",
       "      <td>Software Engineer</td>\n",
       "      <td>52.25</td>\n",
       "      <td>Alex Sweetwater</td>\n",
       "      <td>Diversity Job Fair</td>\n",
       "      <td>Exceeds</td>\n",
       "    </tr>\n",
       "    <tr>\n",
       "      <th>297</th>\n",
       "      <td>Saada, Adell</td>\n",
       "      <td>1.012023e+09</td>\n",
       "      <td>MA</td>\n",
       "      <td>2132.0</td>\n",
       "      <td>7/24/1986</td>\n",
       "      <td>31.0</td>\n",
       "      <td>Female</td>\n",
       "      <td>Married</td>\n",
       "      <td>US Citizen</td>\n",
       "      <td>No</td>\n",
       "      <td>...</td>\n",
       "      <td>11/5/2012</td>\n",
       "      <td>NaN</td>\n",
       "      <td>N/A - still employed</td>\n",
       "      <td>Active</td>\n",
       "      <td>Software Engineering</td>\n",
       "      <td>Software Engineer</td>\n",
       "      <td>49.25</td>\n",
       "      <td>Alex Sweetwater</td>\n",
       "      <td>Pay Per Click - Google</td>\n",
       "      <td>Fully Meets</td>\n",
       "    </tr>\n",
       "    <tr>\n",
       "      <th>298</th>\n",
       "      <td>Szabo, Andrew</td>\n",
       "      <td>1.201031e+09</td>\n",
       "      <td>MA</td>\n",
       "      <td>2140.0</td>\n",
       "      <td>5/6/1983</td>\n",
       "      <td>34.0</td>\n",
       "      <td>Male</td>\n",
       "      <td>Single</td>\n",
       "      <td>US Citizen</td>\n",
       "      <td>No</td>\n",
       "      <td>...</td>\n",
       "      <td>7/7/2014</td>\n",
       "      <td>NaN</td>\n",
       "      <td>N/A - still employed</td>\n",
       "      <td>Active</td>\n",
       "      <td>Software Engineering</td>\n",
       "      <td>Software Engineer</td>\n",
       "      <td>48.00</td>\n",
       "      <td>Alex Sweetwater</td>\n",
       "      <td>MBTA ads</td>\n",
       "      <td>Exceptional</td>\n",
       "    </tr>\n",
       "    <tr>\n",
       "      <th>299</th>\n",
       "      <td>True, Edward</td>\n",
       "      <td>1.102024e+09</td>\n",
       "      <td>MA</td>\n",
       "      <td>2451.0</td>\n",
       "      <td>6/14/1983</td>\n",
       "      <td>34.0</td>\n",
       "      <td>Male</td>\n",
       "      <td>Single</td>\n",
       "      <td>Non-Citizen</td>\n",
       "      <td>No</td>\n",
       "      <td>...</td>\n",
       "      <td>2/18/2013</td>\n",
       "      <td>4/15/2014</td>\n",
       "      <td>medical issues</td>\n",
       "      <td>Voluntarily Terminated</td>\n",
       "      <td>Software Engineering</td>\n",
       "      <td>Software Engineer</td>\n",
       "      <td>45.42</td>\n",
       "      <td>Alex Sweetwater</td>\n",
       "      <td>Diversity Job Fair</td>\n",
       "      <td>Fully Meets</td>\n",
       "    </tr>\n",
       "    <tr>\n",
       "      <th>300</th>\n",
       "      <td>Sweetwater, Alex</td>\n",
       "      <td>1.001645e+09</td>\n",
       "      <td>MA</td>\n",
       "      <td>2184.0</td>\n",
       "      <td>11/22/1966</td>\n",
       "      <td>51.0</td>\n",
       "      <td>Male</td>\n",
       "      <td>Single</td>\n",
       "      <td>US Citizen</td>\n",
       "      <td>No</td>\n",
       "      <td>...</td>\n",
       "      <td>8/15/2011</td>\n",
       "      <td>NaN</td>\n",
       "      <td>N/A - still employed</td>\n",
       "      <td>Active</td>\n",
       "      <td>Software Engineering</td>\n",
       "      <td>Software Engineering Manager</td>\n",
       "      <td>27.00</td>\n",
       "      <td>Jennifer Zamora</td>\n",
       "      <td>Search Engine - Google Bing Yahoo</td>\n",
       "      <td>Fully Meets</td>\n",
       "    </tr>\n",
       "  </tbody>\n",
       "</table>\n",
       "<p>5 rows × 21 columns</p>\n",
       "</div>"
      ],
      "text/plain": [
       "        Employee Name  Employee Number State     Zip         DOB   Age  \\\n",
       "296   Patronick, Luke     1.112031e+09    MA  1844.0   2/20/1979  38.0   \n",
       "297      Saada, Adell     1.012023e+09    MA  2132.0   7/24/1986  31.0   \n",
       "298     Szabo, Andrew     1.201031e+09    MA  2140.0    5/6/1983  34.0   \n",
       "299      True, Edward     1.102024e+09    MA  2451.0   6/14/1983  34.0   \n",
       "300  Sweetwater, Alex     1.001645e+09    MA  2184.0  11/22/1966  51.0   \n",
       "\n",
       "        Sex MaritalDesc  CitizenDesc Hispanic/Latino  ... Date of Hire  \\\n",
       "296    Male      Single   US Citizen              No  ...    11/7/2011   \n",
       "297  Female     Married   US Citizen              No  ...    11/5/2012   \n",
       "298    Male      Single   US Citizen              No  ...     7/7/2014   \n",
       "299    Male      Single  Non-Citizen              No  ...    2/18/2013   \n",
       "300    Male      Single   US Citizen              No  ...    8/15/2011   \n",
       "\n",
       "    Date of Termination       Reason For Term       Employment Status  \\\n",
       "296            9/7/2015      Another position  Voluntarily Terminated   \n",
       "297                 NaN  N/A - still employed                  Active   \n",
       "298                 NaN  N/A - still employed                  Active   \n",
       "299           4/15/2014        medical issues  Voluntarily Terminated   \n",
       "300                 NaN  N/A - still employed                  Active   \n",
       "\n",
       "                    Department                      Position Pay Rate  \\\n",
       "296       Software Engineering             Software Engineer    52.25   \n",
       "297       Software Engineering             Software Engineer    49.25   \n",
       "298       Software Engineering             Software Engineer    48.00   \n",
       "299       Software Engineering             Software Engineer    45.42   \n",
       "300  Software Engineering       Software Engineering Manager    27.00   \n",
       "\n",
       "        Manager Name                    Employee Source Performance Score  \n",
       "296  Alex Sweetwater                 Diversity Job Fair           Exceeds  \n",
       "297  Alex Sweetwater             Pay Per Click - Google       Fully Meets  \n",
       "298  Alex Sweetwater                           MBTA ads       Exceptional  \n",
       "299  Alex Sweetwater                 Diversity Job Fair       Fully Meets  \n",
       "300  Jennifer Zamora  Search Engine - Google Bing Yahoo       Fully Meets  \n",
       "\n",
       "[5 rows x 21 columns]"
      ]
     },
     "execution_count": 2,
     "metadata": {},
     "output_type": "execute_result"
    }
   ],
   "source": [
    "# Import .csv file as a dataframe\n",
    "data = pd.read_csv('human-resources-data-set/core_dataset.csv')\n",
    "\n",
    "# Count number of observations and features\n",
    "obs, nvar = data.shape\n",
    "print('Number of Individuals (all): {x:}'.format(x=obs))\n",
    "print('Number of variables: {x:}'.format(x=nvar))\n",
    "\n",
    "# View table\n",
    "data=data.drop(301,axis=0)\n",
    "data.tail()"
   ]
  },
  {
   "cell_type": "markdown",
   "metadata": {},
   "source": [
    "Need to clean up the data here, Check # of entries for each column and rewrite/add missing data etc..."
   ]
  },
  {
   "cell_type": "code",
   "execution_count": 3,
   "metadata": {},
   "outputs": [],
   "source": [
    "#Replace the ugly column headers with something that is easier to work with. \n",
    "data.columns = data.columns.str.strip().str.lower().str.replace(' ', '_').str.replace('(', '').str.replace(')', '').str.replace('/','_')"
   ]
  },
  {
   "cell_type": "code",
   "execution_count": 4,
   "metadata": {},
   "outputs": [
    {
     "name": "stdout",
     "output_type": "stream",
     "text": [
      "employee_name                  object\n",
      "employee_number               float64\n",
      "state                          object\n",
      "zip                           float64\n",
      "dob                    datetime64[ns]\n",
      "age                           float64\n",
      "sex                            object\n",
      "maritaldesc                    object\n",
      "citizendesc                    object\n",
      "hispanic_latino                object\n",
      "racedesc                       object\n",
      "date_of_hire           datetime64[ns]\n",
      "date_of_termination    datetime64[ns]\n",
      "reason_for_term                object\n",
      "employment_status              object\n",
      "department                     object\n",
      "position                       object\n",
      "pay_rate                      float64\n",
      "manager_name                   object\n",
      "employee_source                object\n",
      "performance_score              object\n",
      "dtype: object\n"
     ]
    }
   ],
   "source": [
    "#make all dates the same format.\n",
    "data.date_of_hire=data.date_of_hire.str.replace('/','.')\n",
    "data.date_of_termination=data.date_of_termination.str.replace('/','.')\n",
    "data.dob=data.dob.str.replace('/','.')\n",
    "data['dob']=pd.to_datetime(data['dob'])\n",
    "data['date_of_hire']=pd.to_datetime(data['date_of_hire'])\n",
    "data['date_of_termination']=pd.to_datetime(data['date_of_termination'])\n",
    "print(data.dtypes)\n"
   ]
  },
  {
   "cell_type": "code",
   "execution_count": 5,
   "metadata": {},
   "outputs": [],
   "source": [
    "#Making sure string entries are uniform (caps or not, useless spaces on end)\n",
    "data.sex=data.sex.str.strip().str.capitalize()\n",
    "data.maritaldesc=data.maritaldesc.str.strip().str.capitalize()\n",
    "data.hispanic_latino=data.hispanic_latino.str.strip().str.capitalize()\n",
    "data.department=data.department.str.strip()"
   ]
  },
  {
   "cell_type": "code",
   "execution_count": 6,
   "metadata": {},
   "outputs": [
    {
     "data": {
      "text/html": [
       "<div>\n",
       "<style scoped>\n",
       "    .dataframe tbody tr th:only-of-type {\n",
       "        vertical-align: middle;\n",
       "    }\n",
       "\n",
       "    .dataframe tbody tr th {\n",
       "        vertical-align: top;\n",
       "    }\n",
       "\n",
       "    .dataframe thead th {\n",
       "        text-align: right;\n",
       "    }\n",
       "</style>\n",
       "<table border=\"1\" class=\"dataframe\">\n",
       "  <thead>\n",
       "    <tr style=\"text-align: right;\">\n",
       "      <th></th>\n",
       "      <th>employee_name</th>\n",
       "      <th>employee_number</th>\n",
       "      <th>state</th>\n",
       "      <th>zip</th>\n",
       "      <th>dob</th>\n",
       "      <th>age</th>\n",
       "      <th>sex</th>\n",
       "      <th>maritaldesc</th>\n",
       "      <th>citizendesc</th>\n",
       "      <th>hispanic_latino</th>\n",
       "      <th>...</th>\n",
       "      <th>date_of_hire</th>\n",
       "      <th>date_of_termination</th>\n",
       "      <th>reason_for_term</th>\n",
       "      <th>employment_status</th>\n",
       "      <th>department</th>\n",
       "      <th>position</th>\n",
       "      <th>pay_rate</th>\n",
       "      <th>manager_name</th>\n",
       "      <th>employee_source</th>\n",
       "      <th>performance_score</th>\n",
       "    </tr>\n",
       "  </thead>\n",
       "  <tbody>\n",
       "    <tr>\n",
       "      <th>153</th>\n",
       "      <td>Ndzi, Horia</td>\n",
       "      <td>1.204033e+09</td>\n",
       "      <td>MA</td>\n",
       "      <td>2421.0</td>\n",
       "      <td>1983-03-28</td>\n",
       "      <td>34.0</td>\n",
       "      <td>Male</td>\n",
       "      <td>Married</td>\n",
       "      <td>US Citizen</td>\n",
       "      <td>No</td>\n",
       "      <td>...</td>\n",
       "      <td>2013-04-01</td>\n",
       "      <td>2016-05-25</td>\n",
       "      <td>more money</td>\n",
       "      <td>Voluntarily Terminated</td>\n",
       "      <td>Production</td>\n",
       "      <td>Production Technician I</td>\n",
       "      <td>22.0</td>\n",
       "      <td>Amy Dunn</td>\n",
       "      <td>Employee Referral</td>\n",
       "      <td>Fully Meets</td>\n",
       "    </tr>\n",
       "  </tbody>\n",
       "</table>\n",
       "<p>1 rows × 21 columns</p>\n",
       "</div>"
      ],
      "text/plain": [
       "    employee_name  employee_number state     zip        dob   age   sex  \\\n",
       "153   Ndzi, Horia     1.204033e+09    MA  2421.0 1983-03-28  34.0  Male   \n",
       "\n",
       "    maritaldesc citizendesc hispanic_latino  ... date_of_hire  \\\n",
       "153     Married  US Citizen              No  ...   2013-04-01   \n",
       "\n",
       "    date_of_termination reason_for_term       employment_status  department  \\\n",
       "153          2016-05-25      more money  Voluntarily Terminated  Production   \n",
       "\n",
       "                    position pay_rate  manager_name    employee_source  \\\n",
       "153  Production Technician I     22.0      Amy Dunn  Employee Referral   \n",
       "\n",
       "    performance_score  \n",
       "153       Fully Meets  \n",
       "\n",
       "[1 rows x 21 columns]"
      ]
     },
     "execution_count": 6,
     "metadata": {},
     "output_type": "execute_result"
    }
   ],
   "source": [
    "data[data.employee_number.duplicated()]\n",
    "#Two employees with the same number, this can create problems. Decision: Assign New number to one "
   ]
  },
  {
   "cell_type": "markdown",
   "metadata": {},
   "source": [
    "Checking for Unique values in columns, this already gives a lot of information:"
   ]
  },
  {
   "cell_type": "code",
   "execution_count": 7,
   "metadata": {},
   "outputs": [],
   "source": [
    "data.loc[152,'employee_number']+=1"
   ]
  },
  {
   "cell_type": "code",
   "execution_count": 8,
   "metadata": {},
   "outputs": [
    {
     "name": "stdout",
     "output_type": "stream",
     "text": [
      "['Brown, Mia' 'LaRotonda, William  ' 'Steans, Tyrone  ' 'Howard, Estelle'\n",
      " 'Singh, Nan ' 'Smith, Leigh Ann' 'LeBlanc, Brandon  R' 'Quinn, Sean'\n",
      " 'Boutwell, Bonalyn' 'Foster-Baker, Amy' 'King, Janet' 'Zamora, Jennifer'\n",
      " 'Becker, Renee' 'Goble, Taisha' 'Hernandez, Daniff' 'Horton, Jayne'\n",
      " 'Johnson, Noelle ' 'Murray, Thomas' 'Pearson, Randall'\n",
      " 'Petrowsky, Thelma' 'Roby, Lori ' 'Rogers, Ivan' 'Salter, Jason'\n",
      " 'Simard, Kramer' 'Zhou, Julia' 'Foss, Jason' 'Roup,Simon' 'Ruiz, Ricardo'\n",
      " 'Monroe, Peter' 'Dougall, Eric' 'Clayton, Rick' 'Galia, Lisa'\n",
      " 'Lindsay, Leonara ' 'Soto, Julia ' 'Bacong, Alejandro ' 'Cisco, Anthony'\n",
      " 'Dolan, Linda' 'Gonzalez, Maria' 'Merlos, Carlos' 'Morway, Tanya'\n",
      " 'Shepard, Anita ' 'Tredinnick, Neville ' 'Turpin, Jumil'\n",
      " 'Ait Sidi, Karthikeyan   ' 'Carr, Claudia  N' 'Favis, Donald  '\n",
      " 'Roehrich, Bianca' 'Daniele, Ann  ' 'Lajiri,  Jyoti'\n",
      " 'Semizoglou, Jeremiah  ' 'South, Joe' 'Warfield, Sarah' 'Bramante, Elisa'\n",
      " 'Albert, Michael  ' 'Bozzi, Charles' 'Butler, Webster  L' 'Dunn, Amy  '\n",
      " 'Gray, Elijiah  ' 'Hogland, Jonathan ' 'Immediato, Walter'\n",
      " 'Liebig, Ketsia' 'Miller, Brannon' 'Peterson, Ebonee  ' 'Spirea, Kelley'\n",
      " 'Stanley, David ' 'Sullivan, Kissy ' 'Wallace, Courtney  E'\n",
      " 'Adinolfi, Wilson  K' 'Alagbe,Trina' 'Anderson, Carol '\n",
      " 'Anderson, Linda  ' 'Athwal, Sam' 'Bachiochi, Linda'\n",
      " 'Baczenski, Rachael  ' 'Barbara, Thomas' 'Barone, Francesco  A'\n",
      " 'Barton, Nader' 'Beatrice, Courtney ' 'Becker, Scott' 'Bernstein, Sean'\n",
      " 'Biden, Lowan  M' 'Billis, Helen' 'Brill, Donna' 'Bugali, Josephine '\n",
      " 'Carey, Michael  ' 'Chace, Beatrice ' 'Chan, Lin' 'Chang, Donovan  E'\n",
      " 'Chivukula, Enola' 'Cierpiszewski, Caroline  ' 'Clukey, Elijian'\n",
      " 'Cockel, James' 'Cole, Spencer' 'Cornett, Lisa ' 'Crimmings,   Jean'\n",
      " \"Darson, Jene'ya \" 'DeGweck,  James' 'Desimone, Carl '\n",
      " 'Dickinson, Geoff ' 'DiNocco, Lily ' 'Dobrin, Denisa  S'\n",
      " 'Eaton, Marianne' 'Engdahl, Jean' 'England, Rex' 'Estremera, Miguel'\n",
      " 'Evensen, April' 'Ferguson, Susan' 'Fernandes, Nilson  '\n",
      " 'Ferreira, Violeta' 'Fidelia,  Libby' 'Garcia, Raul' 'Garneau, Hamish'\n",
      " 'Gaul, Barbara' 'Gentry, Mildred' 'Gerke, Melisa' 'Gilles, Alex'\n",
      " 'Girifalco, Evelyn' 'Gold, Shenice  ' 'Gonzalez, Cayo' 'Gordon, David'\n",
      " 'Goyal, Roxana' 'Gross, Paula' 'Handschiegl, Joanne' 'Harrell, Ludwick'\n",
      " 'Harrington, Christie ' 'Harrison, Kara' 'Heitzman, Anthony'\n",
      " 'Ivey, Rose ' 'Jackson, Maryellen' 'Jacobi, Hannah  ' 'Jhaveri, Sneha  '\n",
      " 'Johnson, George' 'Jung, Judy  ' 'Keatts, Kramer ' 'Kinsella, Kathleen  '\n",
      " 'Kirill, Alexandra  ' 'Knapp, Bradley  J' 'Kretschmer, John'\n",
      " 'Langton, Enrico' 'Leach, Dallas' 'LeBel, Jonathan  R'\n",
      " 'Linares, Marilyn ' 'Lydon, Allison' 'Lynch, Lindsay' 'MacLennan, Samuel'\n",
      " 'Mahoney, Lauren  ' 'Mangal, Debbie' 'Maurice, Shana' 'Mckenna, Sandy'\n",
      " 'Meads, Elizabeth' 'Medeiros, Jennifer' 'Motlagh,  Dawn' 'Ndzi, Colombui'\n",
      " 'Ndzi, Horia' 'Newman, Richard ' 'Ngodup, Shari ' 'Nguyen, Lei-Ming'\n",
      " \"O'hare, Lynn\" 'Osturnka, Adeel' 'Owad, Clinton' 'Panjwani, Nina'\n",
      " 'Pelech, Emil' 'Perry, Shakira' 'Peterson, Kayla ' 'Pham, Hong'\n",
      " 'Pitt, Brad ' 'Power, Morissa' 'Punjabhi, Louis  ' 'Purinton, Janine'\n",
      " 'Rarrick, Quinn' 'Rhoads, Thomas' 'Rivera, Haley  ' 'Robinson, Alain  '\n",
      " 'Robinson, Cherly' 'Robinson, Elias' 'Rose, Ashley  ' 'Rossetti, Bruno'\n",
      " 'Saar-Beckles, Melinda' 'Sadki, Nore  ' 'Sander, Kamrin' 'Sewkumar, Nori'\n",
      " 'Shields, Seffi' 'Smith, Sade' 'Sparks, Taylor  ' 'Squatrito, Kristen'\n",
      " 'Stanford,Barbara  M' 'Stoica, Rick' 'Sullivan, Timothy'\n",
      " 'Sutwell, Barbara' 'Tavares, Desiree  ' 'Theamstern, Sophia'\n",
      " 'Tinto, Theresa  ' 'Tippett, Jeanette' 'Trang, Mei' 'Veera, Abdellah '\n",
      " 'Volk, Colleen' 'Von Massenbach, Anna' 'Wallace, Theresa'\n",
      " 'Whittier, Scott' 'Wilber, Barry' 'Williams, Jacquelyn  '\n",
      " 'Ybarra, Catherine ' 'Zima, Colleen' 'Akinkuolie, Sarah'\n",
      " 'Beak, Kimberly  ' 'Blount, Dianna' 'Bondwell, Betsy'\n",
      " 'Buccheri, Joseph  ' 'Burke, Joelle' 'Burkett, Benjamin '\n",
      " 'Cloninger, Jennifer' 'Close, Phil' 'Davis, Daniel' 'Demita, Carla'\n",
      " 'Erilus, Angela' 'Faller, Megan ' 'Fancett, Nicole'\n",
      " 'Fitzpatrick, Michael  J' 'Foreman, Tanya' 'Gonzalez, Juan' 'Good, Susan'\n",
      " 'Gosciminski, Phylicia  ' 'Hankard, Earnest' 'Hendrickson, Trina'\n",
      " 'Homberger, Adrienne  J' 'Hunts, Julissa' 'Hutter, Rosalie' 'Huynh, Ming'\n",
      " 'Jeannite, Tayana' 'Johnston, Yen' 'Langford, Lindsey' 'Latif, Mohammed'\n",
      " 'Linden, Mathew' 'Lundy, Susan' 'Lunquist, Lisa' 'Manchester, Robyn'\n",
      " 'Mancuso, Karen' 'McCarthy, Brigit' 'Miller, Ned' 'Monkfish, Erasumus  '\n",
      " 'Monterro, Luisa' 'Moran, Patrick' 'Moumanil, Maliki ' 'Nowlan, Kristie'\n",
      " 'Oliver, Brooke ' 'Pelletier, Ermine' 'Peters, Lauren'\n",
      " 'Petingill, Shana  ' 'Roberson, May' 'Robertson, Peter' 'Sahoo, Adil'\n",
      " 'Sloan, Constance' 'Smith, Joe' 'Tejeda, Lenora ' 'Thibaud, Kenneth'\n",
      " 'Trzeciak, Cybil' 'Walker, Roger' 'Winthrop, Jordan  ' 'Wolk, Hang  T'\n",
      " 'Woodson, Jason' 'Buck, Edward' 'Bunbury, Jessica' 'Carter, Michelle '\n",
      " 'Costa, Latia' 'Dietrich, Jenna  ' 'Digitale, Alfred' 'Fraval, Maruk '\n",
      " 'Friedman, Gerry' 'Gill, Whitney  ' 'Givens, Myriam' 'Gonzales, Ricardo'\n",
      " 'Guilianno, Mike' 'Jeremy Prater' 'Khemmich, Bartholemew'\n",
      " 'Leruth, Giovanni' 'Martins, Joseph' 'McKinzie, Jac' 'Mullaney, Howard'\n",
      " 'Nguyen, Dheepa' 'Onque, Jasmine' 'Ozark, Travis' 'Potts, Xana'\n",
      " 'Riordan, Michael' 'Strong, Caitrin' 'Terry, Sharlene ' 'Valentin,Jackie'\n",
      " 'Villanueva, Noah' 'Houlihan, Debra' 'Daneault, Lynn'\n",
      " 'Kampew, Donysha    ' 'Smith, John' 'Andreola, Colby' 'Carabbio, Judith'\n",
      " 'Del Bosque, Keyla' 'Exantus, Susan' 'Martin, Sandra' 'Patronick, Luke'\n",
      " 'Saada, Adell' 'Szabo, Andrew' 'True, Edward' 'Sweetwater, Alex']\n",
      "301\n",
      "[1.10302446e+09 1.10602657e+09 1.30205333e+09 1.21105078e+09\n",
      " 1.30705982e+09 7.11007713e+08 1.10202412e+09 1.20604342e+09\n",
      " 1.30706019e+09 1.20103131e+09 1.00149512e+09 1.11203082e+09\n",
      " 1.10202406e+09 9.05013738e+08 1.41007116e+09 1.10502572e+09\n",
      " 1.00301825e+09 1.40606840e+09 1.10202396e+09 1.10802785e+09\n",
      " 1.40706888e+09 1.20303226e+09 1.11103015e+09 8.08010278e+08\n",
      " 1.11002973e+09 1.19299100e+09 1.10602693e+09 1.00117525e+09\n",
      " 1.01102286e+09 1.10102375e+09 1.30105290e+09 1.50107209e+09\n",
      " 6.02000312e+08 1.20303226e+09 1.21205202e+09 1.10202417e+09\n",
      " 1.10102354e+09 1.98829999e+09 1.01202301e+09 1.00195658e+09\n",
      " 9.06014183e+08 1.10402547e+09 1.41107151e+09 1.30706020e+09\n",
      " 1.01002234e+09 1.41207156e+09 1.11103027e+09 1.41107131e+09\n",
      " 1.10802811e+09 9.04013591e+08 1.30806096e+09 1.30105235e+09\n",
      " 1.00602007e+09 1.50107231e+09 1.30305458e+09 1.11002999e+09\n",
      " 1.40907015e+09 1.30706008e+09 1.00194478e+09 1.40306587e+09\n",
      " 1.10302468e+09 1.10702735e+09 1.40206536e+09 1.10202415e+09\n",
      " 1.00097465e+09 1.40506730e+09 1.41007103e+09 1.40907052e+09\n",
      " 1.01102288e+09 1.00141762e+09 1.30405595e+09 1.30105212e+09\n",
      " 1.21205141e+09 1.30706008e+09 1.31206351e+09 1.10102368e+09\n",
      " 1.21205196e+09 1.40306619e+09 1.11002978e+09 1.10902937e+09\n",
      " 1.41207184e+09 1.30806037e+09 1.40606829e+09 1.40806964e+09\n",
      " 1.31106311e+09 1.20804806e+09 1.30505728e+09 1.11103013e+09\n",
      " 1.10102339e+09 1.01202330e+09 1.40706928e+09 1.59999101e+09\n",
      " 1.00145097e+09 1.40306607e+09 1.31106317e+09 1.00110961e+09\n",
      " 1.30605882e+09 1.50107212e+09 7.06006285e+08 1.20904870e+09\n",
      " 1.20203162e+09 1.40606786e+09 1.00702040e+09 1.10102361e+09\n",
      " 1.10402524e+09 1.10702739e+09 1.50207251e+09 1.30205334e+09\n",
      " 8.03009012e+08 1.00602002e+09 1.30906102e+09 1.10402541e+09\n",
      " 1.10502604e+09 1.50107219e+09 1.30806062e+09 1.00802096e+09\n",
      " 1.20403293e+09 1.40806954e+09 1.41107121e+09 1.10602658e+09\n",
      " 1.31206368e+09 1.10302486e+09 1.40506706e+09 1.40606824e+09\n",
      " 1.11002960e+09 1.40406662e+09 1.00201790e+09 1.40806988e+09\n",
      " 1.20103144e+09 1.50307286e+09 1.41207171e+09 1.10502572e+09\n",
      " 1.10702745e+09 1.30105246e+09 7.10007401e+08 9.03013071e+08\n",
      " 1.30405568e+09 1.31106261e+09 1.30405599e+09 1.40806941e+09\n",
      " 1.10702758e+09 1.20604232e+09 1.10102335e+09 1.00113852e+09\n",
      " 1.20103103e+09 1.20904926e+09 1.30806075e+09 1.40106433e+09\n",
      " 9.09015167e+08 1.40907024e+09 1.10902926e+09 1.10202412e+09\n",
      " 1.20403304e+09 1.20403304e+09 1.30205304e+09 1.40306602e+09\n",
      " 1.20303236e+09 1.20604485e+09 1.40406695e+09 1.10302434e+09\n",
      " 1.10902953e+09 1.30706006e+09 1.10902919e+09 1.30705994e+09\n",
      " 1.30505744e+09 1.00173507e+09 1.10202427e+09 1.40106456e+09\n",
      " 1.01102293e+09 1.20804823e+09 1.21105079e+09 1.40506764e+09\n",
      " 1.20603800e+09 1.40306562e+09 1.01102289e+09 7.10007555e+08\n",
      " 1.40506749e+09 1.41007100e+09 1.30806054e+09 1.30205336e+09\n",
      " 8.07010161e+08 1.20503310e+09 1.50107191e+09 1.41007114e+09\n",
      " 1.40506714e+09 1.11103024e+09 1.10602690e+09 1.20103131e+09\n",
      " 1.40706906e+09 1.40506750e+09 1.40406674e+09 1.10302450e+09\n",
      " 1.40907026e+09 1.01202315e+09 1.20303224e+09 1.01102281e+09\n",
      " 1.10602647e+09 1.10102362e+09 1.30706021e+09 1.10102384e+09\n",
      " 1.30806067e+09 1.00126840e+09 1.21105123e+09 1.00501921e+09\n",
      " 1.30305433e+09 1.40306612e+09 1.00802103e+09 1.10102346e+09\n",
      " 1.01102282e+09 1.30105245e+09 1.01202323e+09 1.20904870e+09\n",
      " 1.20103127e+09 1.10402518e+09 1.10502566e+09 1.10802843e+09\n",
      " 1.40206508e+09 1.10902910e+09 1.01202320e+09 1.41107132e+09\n",
      " 1.00154901e+09 1.10802835e+09 1.30705994e+09 1.01102293e+09\n",
      " 1.20704696e+09 1.10602643e+09 1.10302492e+09 1.30605851e+09\n",
      " 1.00802094e+09 1.30605781e+09 1.01002203e+09 1.10402549e+09\n",
      " 1.40506756e+09 1.30505628e+09 1.00150443e+09 1.11002962e+09\n",
      " 1.30405599e+09 1.40606796e+09 1.20503344e+09 1.40406671e+09\n",
      " 1.00110315e+09 1.40806950e+09 1.30105244e+09 1.10402544e+09\n",
      " 1.00185652e+09 1.20203182e+09 1.41107141e+09 1.10302484e+09\n",
      " 1.40206534e+09 1.49990299e+09 1.10602646e+09 1.01202310e+09\n",
      " 1.00197077e+09 1.40606834e+09 1.01102278e+09 1.10702755e+09\n",
      " 1.01102282e+09 1.40506719e+09 1.20503318e+09 1.01202301e+09\n",
      " 1.50407331e+09 1.50407337e+09 1.40306572e+09 1.40907057e+09\n",
      " 1.40806948e+09 1.30605920e+09 1.41107130e+09 1.20403284e+09\n",
      " 1.30205305e+09 1.20303210e+09 1.41107148e+09 1.00116725e+09\n",
      " 1.00108489e+09 1.10402501e+09 1.41207166e+09 1.20904877e+09\n",
      " 1.20904933e+09 1.30605798e+09 1.11103068e+09 1.50107218e+09\n",
      " 8.12011761e+08 1.10202411e+09 1.50207271e+09 1.41107130e+09\n",
      " 1.40106464e+09 1.31206371e+09 1.11103050e+09 1.00902165e+09\n",
      " 1.40206530e+09 1.10902926e+09 1.49990291e+09 1.10702736e+09\n",
      " 1.10102358e+09 1.20303250e+09 1.40106467e+09 1.30305462e+09\n",
      " 1.11203098e+09 1.01202318e+09 1.20103132e+09 1.10202406e+09\n",
      " 1.00164472e+09]\n",
      "301\n",
      "['MA' 'TX' 'CT' 'VA' 'VT' 'CA' 'WA' 'NH' 'NY' 'OH' 'IN' 'ID' 'TN' 'NV'\n",
      " 'CO' 'UT' 'AL' 'GA' 'FL' 'NC' 'KY' 'ND' 'MT' 'OR' 'AZ' 'ME' 'RI' 'PA']\n",
      "28\n",
      "[ 1450.  1460.  2703.  2170.  2330.  1844.  2045.  2468.  2050.  1902.\n",
      "  2067.  2026.  2127.  1960.  2493.  2301. 78230.  2747.  1886.  1810.\n",
      "  2452.  2110.  2148.  2481.  1915.  2134.  6040.  6070.  2360.  2135.\n",
      "  2119.  2472.  2138.  2048.  1773.  1420.  2343.  6033.  2169.  1545.\n",
      "  6278.  2453.  2030.  1901.  1731.  1752.  1890.  2128.  2451.  1803.\n",
      "  1776.  2478.  2199.  2062.  2072.  2027.  2031.  1701.  2043.  2763.\n",
      "  1845.  1775.  2044.  1880.  2189.  1821.  2061.  2180.  2351.  2125.\n",
      "  2129.  2458.  2176.  2132.  2155.  1905.  1550.  2121.  2145.  2108.\n",
      "  1864.  2324.  2149.  2081.  1778.  2109.  2445.  2446.  1887.  1721.\n",
      "  1801.  2122.  1938.  2184.  1760.  2346.  2421.  2136.  2152.  1749.\n",
      "  1742.  2474.  2171.  1730.  2154.  2191.  2130.  2093.  2359.  2718.\n",
      "  2066.  1876.  2021.  2124.  2210.  1013.  2133.  1824.  2143.  2090.\n",
      "  2126.  1770.  1040.  2492.  1851.  2459.  2302. 21851.  5664. 90007.\n",
      " 98052.  3062.  6050. 10171. 43050. 46204. 83706. 37129. 89139. 80820.\n",
      " 84111. 78207. 78789. 36006. 30428. 33174. 27229. 40220. 58782. 59102.\n",
      " 97756. 85006.  4063.  2908.  5473. 19444.  2140.]\n",
      "157\n",
      "['1985-11-24T00:00:00.000000000' '1984-04-26T00:00:00.000000000'\n",
      " '1986-09-01T00:00:00.000000000' '1985-09-16T00:00:00.000000000'\n",
      " '1988-05-19T00:00:00.000000000' '1987-06-14T00:00:00.000000000'\n",
      " '1984-06-10T00:00:00.000000000' '1984-11-06T00:00:00.000000000'\n",
      " '1987-04-04T00:00:00.000000000' '1979-04-16T00:00:00.000000000'\n",
      " '1954-09-21T00:00:00.000000000' '1979-08-30T00:00:00.000000000'\n",
      " '1986-04-04T00:00:00.000000000' '1971-10-23T00:00:00.000000000'\n",
      " '1986-08-07T00:00:00.000000000' '1984-02-21T00:00:00.000000000'\n",
      " '1986-11-07T00:00:00.000000000' '1988-07-04T00:00:00.000000000'\n",
      " '1984-09-05T00:00:00.000000000' '1984-09-16T00:00:00.000000000'\n",
      " '1981-10-11T00:00:00.000000000' '1986-08-26T00:00:00.000000000'\n",
      " '1987-12-17T00:00:00.000000000' '1970-02-08T00:00:00.000000000'\n",
      " '1979-02-24T00:00:00.000000000' '1980-07-05T00:00:00.000000000'\n",
      " '1973-04-05T00:00:00.000000000' '1964-01-04T00:00:00.000000000'\n",
      " '1986-10-05T00:00:00.000000000' '1970-07-09T00:00:00.000000000'\n",
      " '1985-09-05T00:00:00.000000000' '1968-07-06T00:00:00.000000000'\n",
      " '1988-10-05T00:00:00.000000000' '1973-03-12T00:00:00.000000000'\n",
      " '1988-01-07T00:00:00.000000000' '1989-11-24T00:00:00.000000000'\n",
      " '1988-07-18T00:00:00.000000000' '1981-04-16T00:00:00.000000000'\n",
      " '1987-06-18T00:00:00.000000000' '1979-04-04T00:00:00.000000000'\n",
      " '1981-04-14T00:00:00.000000000' '1988-05-05T00:00:00.000000000'\n",
      " '1969-03-31T00:00:00.000000000' '1975-05-05T00:00:00.000000000'\n",
      " '1986-06-06T00:00:00.000000000' '1964-07-30T00:00:00.000000000'\n",
      " '1973-05-27T00:00:00.000000000' '1952-01-18T00:00:00.000000000'\n",
      " '1986-04-23T00:00:00.000000000' '1983-02-09T00:00:00.000000000'\n",
      " '1965-09-09T00:00:00.000000000' '1978-05-02T00:00:00.000000000'\n",
      " '1983-03-19T00:00:00.000000000' '1968-10-10T00:00:00.000000000'\n",
      " '1970-03-10T00:00:00.000000000' '1983-08-09T00:00:00.000000000'\n",
      " '1973-11-28T00:00:00.000000000' '1981-07-11T00:00:00.000000000'\n",
      " '1972-07-01T00:00:00.000000000' '1976-11-15T00:00:00.000000000'\n",
      " '1981-10-26T00:00:00.000000000' '1981-08-10T00:00:00.000000000'\n",
      " '1977-05-09T00:00:00.000000000' '1975-09-30T00:00:00.000000000'\n",
      " '1975-12-17T00:00:00.000000000' '1978-03-28T00:00:00.000000000'\n",
      " '1955-11-14T00:00:00.000000000' '1983-07-10T00:00:00.000000000'\n",
      " '1988-09-27T00:00:00.000000000' '1989-09-08T00:00:00.000000000'\n",
      " '1977-05-22T00:00:00.000000000' '1983-02-18T00:00:00.000000000'\n",
      " '1970-02-11T00:00:00.000000000' '1974-01-12T00:00:00.000000000'\n",
      " '1974-02-21T00:00:00.000000000' '1983-07-20T00:00:00.000000000'\n",
      " '1977-07-15T00:00:00.000000000' '1970-10-27T00:00:00.000000000'\n",
      " '1979-04-06T00:00:00.000000000' '1970-12-22T00:00:00.000000000'\n",
      " '1958-12-27T00:00:00.000000000' '1989-09-01T00:00:00.000000000'\n",
      " '1990-08-24T00:00:00.000000000' '1969-10-30T00:00:00.000000000'\n",
      " '1983-02-02T00:00:00.000000000' '1951-01-02T00:00:00.000000000'\n",
      " '1979-02-12T00:00:00.000000000' '1983-08-24T00:00:00.000000000'\n",
      " '1983-08-27T00:00:00.000000000' '1988-05-31T00:00:00.000000000'\n",
      " '1980-08-26T00:00:00.000000000' '1977-09-08T00:00:00.000000000'\n",
      " '1979-08-12T00:00:00.000000000' '1977-03-31T00:00:00.000000000'\n",
      " '1987-04-10T00:00:00.000000000' '1978-11-05T00:00:00.000000000'\n",
      " '1977-10-31T00:00:00.000000000' '1967-04-19T00:00:00.000000000'\n",
      " '1982-11-15T00:00:00.000000000' '1978-12-02T00:00:00.000000000'\n",
      " '1986-10-07T00:00:00.000000000' '1991-09-05T00:00:00.000000000'\n",
      " '1974-05-31T00:00:00.000000000' '1978-08-25T00:00:00.000000000'\n",
      " '1983-09-02T00:00:00.000000000' '1989-05-06T00:00:00.000000000'\n",
      " '1955-04-14T00:00:00.000000000' '1989-10-18T00:00:00.000000000'\n",
      " '1986-06-10T00:00:00.000000000' '1981-03-16T00:00:00.000000000'\n",
      " '1985-09-15T00:00:00.000000000' '1980-04-18T00:00:00.000000000'\n",
      " '1983-12-02T00:00:00.000000000' '1990-10-01T00:00:00.000000000'\n",
      " '1970-05-15T00:00:00.000000000' '1974-08-09T00:00:00.000000000'\n",
      " '1980-05-08T00:00:00.000000000' '1992-06-18T00:00:00.000000000'\n",
      " '1969-09-29T00:00:00.000000000' '1979-05-21T00:00:00.000000000'\n",
      " '1974-10-09T00:00:00.000000000' '1983-05-21T00:00:00.000000000'\n",
      " '1977-03-23T00:00:00.000000000' '1982-09-02T00:00:00.000000000'\n",
      " '1952-08-18T00:00:00.000000000' '1974-05-02T00:00:00.000000000'\n",
      " '1984-01-04T00:00:00.000000000' '1991-01-28T00:00:00.000000000'\n",
      " '1972-09-11T00:00:00.000000000' '1966-03-22T00:00:00.000000000'\n",
      " '1964-04-13T00:00:00.000000000' '1959-08-19T00:00:00.000000000'\n",
      " '1986-04-17T00:00:00.000000000' '1976-01-19T00:00:00.000000000'\n",
      " '1973-12-08T00:00:00.000000000' '1970-10-08T00:00:00.000000000'\n",
      " '1977-11-10T00:00:00.000000000' '1980-02-02T00:00:00.000000000'\n",
      " '1986-12-09T00:00:00.000000000' '1979-01-17T00:00:00.000000000'\n",
      " '1981-10-18T00:00:00.000000000' '1981-03-26T00:00:00.000000000'\n",
      " '1975-10-22T00:00:00.000000000' '1973-02-14T00:00:00.000000000'\n",
      " '1972-11-09T00:00:00.000000000' '1986-07-07T00:00:00.000000000'\n",
      " '1974-11-07T00:00:00.000000000' '1977-11-22T00:00:00.000000000'\n",
      " '1987-01-07T00:00:00.000000000' '1968-05-30T00:00:00.000000000'\n",
      " '1976-09-22T00:00:00.000000000' '1984-07-07T00:00:00.000000000'\n",
      " '1989-05-02T00:00:00.000000000' '1983-03-28T00:00:00.000000000'\n",
      " '1977-04-08T00:00:00.000000000' '1967-06-03T00:00:00.000000000'\n",
      " '1980-09-30T00:00:00.000000000' '1976-12-11T00:00:00.000000000'\n",
      " '1979-11-24T00:00:00.000000000' '1979-05-01T00:00:00.000000000'\n",
      " '1988-03-17T00:00:00.000000000' '1986-07-20T00:00:00.000000000'\n",
      " '1973-09-23T00:00:00.000000000' '1988-03-06T00:00:00.000000000'\n",
      " '1981-11-23T00:00:00.000000000' '1984-10-15T00:00:00.000000000'\n",
      " '1961-06-19T00:00:00.000000000' '1970-09-22T00:00:00.000000000'\n",
      " '1984-12-31T00:00:00.000000000' '1982-07-22T00:00:00.000000000'\n",
      " '1973-01-12T00:00:00.000000000' '1974-01-07T00:00:00.000000000'\n",
      " '1985-01-07T00:00:00.000000000' '1985-01-28T00:00:00.000000000'\n",
      " '1974-12-05T00:00:00.000000000' '1987-03-18T00:00:00.000000000'\n",
      " '1968-06-06T00:00:00.000000000' '1974-12-21T00:00:00.000000000'\n",
      " '1988-07-10T00:00:00.000000000' '1975-03-10T00:00:00.000000000'\n",
      " '1985-08-24T00:00:00.000000000' '1965-02-02T00:00:00.000000000'\n",
      " '1968-07-20T00:00:00.000000000' '1973-03-26T00:00:00.000000000'\n",
      " '1982-08-25T00:00:00.000000000' '1985-03-14T00:00:00.000000000'\n",
      " '1982-10-07T00:00:00.000000000' '1968-08-15T00:00:00.000000000'\n",
      " '1975-04-03T00:00:00.000000000' '1965-05-09T00:00:00.000000000'\n",
      " '1983-07-30T00:00:00.000000000' '1967-06-05T00:00:00.000000000'\n",
      " '1983-05-16T00:00:00.000000000' '1987-01-31T00:00:00.000000000'\n",
      " '1986-06-03T00:00:00.000000000' '1985-04-06T00:00:00.000000000'\n",
      " '1980-08-02T00:00:00.000000000' '1987-05-24T00:00:00.000000000'\n",
      " '1969-10-02T00:00:00.000000000' '1982-05-04T00:00:00.000000000'\n",
      " '1978-08-17T00:00:00.000000000' '1988-09-19T00:00:00.000000000'\n",
      " '1966-04-17T00:00:00.000000000' '1990-09-21T00:00:00.000000000'\n",
      " '1967-01-16T00:00:00.000000000' '1983-07-28T00:00:00.000000000'\n",
      " '1980-03-02T00:00:00.000000000' '1977-08-19T00:00:00.000000000'\n",
      " '1981-08-31T00:00:00.000000000' '1978-11-25T00:00:00.000000000'\n",
      " '1979-09-14T00:00:00.000000000' '1951-02-25T00:00:00.000000000'\n",
      " '1989-08-25T00:00:00.000000000' '1978-09-22T00:00:00.000000000'\n",
      " '1987-09-27T00:00:00.000000000' '1981-10-01T00:00:00.000000000'\n",
      " '1983-11-08T00:00:00.000000000' '1964-10-12T00:00:00.000000000'\n",
      " '1986-05-25T00:00:00.000000000' '1983-12-08T00:00:00.000000000'\n",
      " '1988-08-10T00:00:00.000000000' '1972-08-27T00:00:00.000000000'\n",
      " '1984-02-16T00:00:00.000000000' '1984-03-11T00:00:00.000000000'\n",
      " '1992-05-07T00:00:00.000000000' '1986-11-06T00:00:00.000000000'\n",
      " '1969-09-08T00:00:00.000000000' '1979-07-25T00:00:00.000000000'\n",
      " '1984-05-09T00:00:00.000000000' '1979-03-19T00:00:00.000000000'\n",
      " '1976-12-26T00:00:00.000000000' '1982-03-28T00:00:00.000000000'\n",
      " '1976-08-25T00:00:00.000000000' '1986-12-10T00:00:00.000000000'\n",
      " '1987-05-21T00:00:00.000000000' '1985-06-29T00:00:00.000000000'\n",
      " '1992-08-17T00:00:00.000000000' '1970-04-24T00:00:00.000000000'\n",
      " '1976-12-03T00:00:00.000000000' '1974-12-01T00:00:00.000000000'\n",
      " '1985-11-23T00:00:00.000000000' '1952-02-11T00:00:00.000000000'\n",
      " '1989-07-18T00:00:00.000000000' '1986-08-17T00:00:00.000000000'\n",
      " '1979-03-10T00:00:00.000000000' '1981-09-05T00:00:00.000000000'\n",
      " '1972-07-03T00:00:00.000000000' '1986-04-26T00:00:00.000000000'\n",
      " '1987-11-25T00:00:00.000000000' '1963-10-30T00:00:00.000000000'\n",
      " '1953-05-24T00:00:00.000000000' '1975-09-16T00:00:00.000000000'\n",
      " '1985-03-15T00:00:00.000000000' '1976-02-10T00:00:00.000000000'\n",
      " '1958-11-07T00:00:00.000000000' '1985-04-20T00:00:00.000000000'\n",
      " '1985-05-11T00:00:00.000000000' '1975-07-07T00:00:00.000000000'\n",
      " '1964-06-01T00:00:00.000000000' '1963-05-15T00:00:00.000000000'\n",
      " '1988-11-08T00:00:00.000000000' '1987-05-14T00:00:00.000000000'\n",
      " '1988-09-14T00:00:00.000000000' '1963-08-28T00:00:00.000000000'\n",
      " '1969-02-24T00:00:00.000000000' '1971-07-10T00:00:00.000000000'\n",
      " '1989-09-22T00:00:00.000000000' '1954-10-12T00:00:00.000000000'\n",
      " '1969-02-09T00:00:00.000000000' '1974-05-09T00:00:00.000000000'\n",
      " '1979-11-27T00:00:00.000000000' '1988-12-27T00:00:00.000000000'\n",
      " '1970-06-11T00:00:00.000000000' '1984-07-01T00:00:00.000000000'\n",
      " '1975-11-02T00:00:00.000000000' '1989-03-31T00:00:00.000000000'\n",
      " '1990-05-11T00:00:00.000000000' '1982-05-19T00:00:00.000000000'\n",
      " '1988-08-29T00:00:00.000000000' '1968-01-15T00:00:00.000000000'\n",
      " '1989-05-12T00:00:00.000000000' '1965-05-07T00:00:00.000000000'\n",
      " '1991-05-23T00:00:00.000000000' '1989-07-11T00:00:00.000000000'\n",
      " '1966-03-17T00:00:00.000000000' '1990-04-19T00:00:00.000000000'\n",
      " '1989-11-11T00:00:00.000000000' '1984-08-16T00:00:00.000000000'\n",
      " '1979-05-24T00:00:00.000000000' '1987-04-05T00:00:00.000000000'\n",
      " '1979-07-05T00:00:00.000000000' '1987-05-15T00:00:00.000000000'\n",
      " '1987-11-07T00:00:00.000000000' '1979-02-20T00:00:00.000000000'\n",
      " '1986-07-24T00:00:00.000000000' '1983-05-06T00:00:00.000000000'\n",
      " '1983-06-14T00:00:00.000000000' '1966-11-22T00:00:00.000000000']\n",
      "298\n",
      "[32. 33. 31. 29. 30. 38. 63. 46. 36. 47. 37. 44. 54. 49. 28. 48. 42. 53.\n",
      " 66. 34. 52. 39. 45. 41. 40. 62. 43. 59. 27. 67. 50. 35. 26. 25. 65. 51.\n",
      " 58. 56. 64.]\n",
      "39\n",
      "['Female' 'Male']\n",
      "2\n",
      "['Married' 'Divorced' 'Single' 'Separated' 'Widowed']\n",
      "5\n",
      "['US Citizen' 'Eligible NonCitizen' 'Non-Citizen']\n",
      "3\n",
      "['No' 'Yes']\n",
      "2\n",
      "['Black or African American' 'White' 'Asian' 'Two or more races'\n",
      " 'Hispanic' 'American Indian or Alaska Native']\n",
      "6\n",
      "['2008-10-27T00:00:00.000000000' '2014-01-06T00:00:00.000000000'\n",
      " '2014-09-29T00:00:00.000000000' '2015-02-16T00:00:00.000000000'\n",
      " '2015-05-01T00:00:00.000000000' '2011-09-26T00:00:00.000000000'\n",
      " '2016-01-05T00:00:00.000000000' '2011-02-21T00:00:00.000000000'\n",
      " '2009-01-05T00:00:00.000000000' '2012-07-02T00:00:00.000000000'\n",
      " '2010-04-10T00:00:00.000000000' '2014-07-07T00:00:00.000000000'\n",
      " '2015-03-30T00:00:00.000000000' '2015-01-05T00:00:00.000000000'\n",
      " '2014-11-10T00:00:00.000000000' '2014-12-01T00:00:00.000000000'\n",
      " '2011-04-15T00:00:00.000000000' '2013-01-20T00:00:00.000000000'\n",
      " '2012-01-09T00:00:00.000000000' '2012-02-15T00:00:00.000000000'\n",
      " '2014-01-05T00:00:00.000000000' '2012-09-05T00:00:00.000000000'\n",
      " '2010-05-01T00:00:00.000000000' '2011-01-21T00:00:00.000000000'\n",
      " '2011-06-10T00:00:00.000000000' '2014-09-30T00:00:00.000000000'\n",
      " '2016-06-30T00:00:00.000000000' '2014-02-17T00:00:00.000000000'\n",
      " '2011-08-01T00:00:00.000000000' '2013-09-30T00:00:00.000000000'\n",
      " '2016-01-28T00:00:00.000000000' '2014-09-18T00:00:00.000000000'\n",
      " '2015-06-02T00:00:00.000000000' '2011-01-10T00:00:00.000000000'\n",
      " '2012-08-16T00:00:00.000000000' '2010-10-25T00:00:00.000000000'\n",
      " '2012-10-02T00:00:00.000000000' '2010-07-20T00:00:00.000000000'\n",
      " '2009-01-08T00:00:00.000000000' '2011-07-05T00:00:00.000000000'\n",
      " '2008-01-07T00:00:00.000000000' '2011-07-11T00:00:00.000000000'\n",
      " '2009-07-06T00:00:00.000000000' '2012-04-02T00:00:00.000000000'\n",
      " '2012-02-20T00:00:00.000000000' '2012-09-24T00:00:00.000000000'\n",
      " '2011-04-04T00:00:00.000000000' '2013-07-08T00:00:00.000000000'\n",
      " '2013-08-19T00:00:00.000000000' '2013-11-11T00:00:00.000000000'\n",
      " '2014-03-31T00:00:00.000000000' '2014-05-12T00:00:00.000000000'\n",
      " '2011-06-27T00:00:00.000000000' '2011-10-03T00:00:00.000000000'\n",
      " '2016-07-06T00:00:00.000000000' '2011-05-16T00:00:00.000000000'\n",
      " '2013-01-07T00:00:00.000000000' '2011-11-07T00:00:00.000000000'\n",
      " '2015-05-11T00:00:00.000000000' '2011-11-28T00:00:00.000000000'\n",
      " '2012-05-14T00:00:00.000000000' '2012-08-13T00:00:00.000000000'\n",
      " '2012-11-05T00:00:00.000000000' '2012-07-09T00:00:00.000000000'\n",
      " '2011-05-31T00:00:00.000000000' '2013-04-01T00:00:00.000000000'\n",
      " '2011-02-07T00:00:00.000000000' '2010-04-26T00:00:00.000000000'\n",
      " '2007-11-05T00:00:00.000000000' '2016-07-04T00:00:00.000000000'\n",
      " '2013-05-13T00:00:00.000000000' '2009-04-27T00:00:00.000000000'\n",
      " '2013-02-18T00:00:00.000000000' '2015-07-05T00:00:00.000000000'\n",
      " '2008-09-02T00:00:00.000000000' '2016-07-21T00:00:00.000000000'\n",
      " '2012-03-05T00:00:00.000000000' '2010-08-30T00:00:00.000000000'\n",
      " '2011-08-15T00:00:00.000000000' '2016-06-06T00:00:00.000000000'\n",
      " '2015-06-05T00:00:00.000000000' '2016-05-11T00:00:00.000000000'\n",
      " '2009-10-26T00:00:00.000000000' '2007-06-25T00:00:00.000000000'\n",
      " '2014-08-18T00:00:00.000000000' '2011-09-06T00:00:00.000000000'\n",
      " '2011-03-07T00:00:00.000000000' '2012-04-30T00:00:00.000000000'\n",
      " '2006-01-09T00:00:00.000000000' '2010-09-27T00:00:00.000000000'\n",
      " '2014-05-05T00:00:00.000000000' '2014-05-18T00:00:00.000000000'\n",
      " '2011-05-02T00:00:00.000000000']\n",
      "93\n",
      "[                          'NaT' '2015-04-15T00:00:00.000000000'\n",
      " '2013-09-25T00:00:00.000000000' '2015-08-15T00:00:00.000000000'\n",
      " '2015-09-12T00:00:00.000000000' '2015-03-15T00:00:00.000000000'\n",
      " '2015-02-22T00:00:00.000000000' '2016-05-01T00:00:00.000000000'\n",
      " '2015-10-31T00:00:00.000000000' '2015-11-04T00:00:00.000000000'\n",
      " '2015-05-12T00:00:00.000000000' '2016-06-16T00:00:00.000000000'\n",
      " '2016-02-19T00:00:00.000000000' '2015-11-10T00:00:00.000000000'\n",
      " '2014-08-07T00:00:00.000000000' '2015-12-12T00:00:00.000000000'\n",
      " '2012-09-24T00:00:00.000000000' '2016-05-18T00:00:00.000000000'\n",
      " '2012-01-02T00:00:00.000000000' '2011-09-06T00:00:00.000000000'\n",
      " '2011-01-12T00:00:00.000000000' '2012-09-19T00:00:00.000000000'\n",
      " '2013-04-06T00:00:00.000000000' '2013-06-15T00:00:00.000000000'\n",
      " '2015-11-15T00:00:00.000000000' '2012-09-23T00:00:00.000000000'\n",
      " '2015-06-08T00:00:00.000000000' '2013-06-06T00:00:00.000000000'\n",
      " '2014-09-27T00:00:00.000000000' '2014-02-25T00:00:00.000000000'\n",
      " '2014-05-17T00:00:00.000000000' '2011-11-15T00:00:00.000000000'\n",
      " '2015-06-25T00:00:00.000000000' '2014-01-11T00:00:00.000000000'\n",
      " '2015-12-15T00:00:00.000000000' '2016-04-29T00:00:00.000000000'\n",
      " '2016-04-01T00:00:00.000000000' '2015-06-04T00:00:00.000000000'\n",
      " '2012-01-09T00:00:00.000000000' '2013-08-19T00:00:00.000000000'\n",
      " '2011-08-04T00:00:00.000000000' '2011-09-26T00:00:00.000000000'\n",
      " '2015-11-14T00:00:00.000000000' '2012-09-26T00:00:00.000000000'\n",
      " '2015-11-11T00:00:00.000000000' '2014-04-04T00:00:00.000000000'\n",
      " '2016-05-25T00:00:00.000000000' '2014-01-12T00:00:00.000000000'\n",
      " '2012-12-28T00:00:00.000000000' '2015-10-25T00:00:00.000000000'\n",
      " '2012-11-30T00:00:00.000000000' '2011-06-04T00:00:00.000000000'\n",
      " '2013-06-18T00:00:00.000000000' '2012-04-07T00:00:00.000000000'\n",
      " '2016-01-15T00:00:00.000000000' '2016-01-26T00:00:00.000000000'\n",
      " '2016-05-17T00:00:00.000000000' '2012-08-13T00:00:00.000000000'\n",
      " '2010-07-30T00:00:00.000000000' '2015-06-29T00:00:00.000000000'\n",
      " '2013-04-01T00:00:00.000000000' '2011-09-05T00:00:00.000000000'\n",
      " '2011-05-14T00:00:00.000000000' '2016-02-05T00:00:00.000000000'\n",
      " '2016-02-08T00:00:00.000000000' '2015-09-01T00:00:00.000000000'\n",
      " '2011-05-15T00:00:00.000000000' '2015-09-07T00:00:00.000000000'\n",
      " '2015-06-27T00:00:00.000000000' '2015-09-29T00:00:00.000000000'\n",
      " '2013-01-07T00:00:00.000000000' '2013-06-24T00:00:00.000000000'\n",
      " '2011-05-30T00:00:00.000000000' '2013-02-18T00:00:00.000000000'\n",
      " '2014-03-31T00:00:00.000000000' '2013-04-15T00:00:00.000000000'\n",
      " '2013-09-15T00:00:00.000000000' '2011-08-19T00:00:00.000000000'\n",
      " '2014-09-04T00:00:00.000000000' '2011-09-15T00:00:00.000000000'\n",
      " '2012-02-04T00:00:00.000000000' '2011-10-22T00:00:00.000000000'\n",
      " '2012-02-08T00:00:00.000000000' '2015-04-08T00:00:00.000000000'\n",
      " '2012-07-08T00:00:00.000000000' '2010-08-30T00:00:00.000000000'\n",
      " '2012-07-02T00:00:00.000000000' '2016-02-21T00:00:00.000000000'\n",
      " '2014-08-02T00:00:00.000000000' '2015-09-05T00:00:00.000000000'\n",
      " '2014-10-31T00:00:00.000000000' '2014-04-24T00:00:00.000000000'\n",
      " '2013-06-05T00:00:00.000000000' '2014-04-15T00:00:00.000000000']\n",
      "93\n",
      "['N/A - still employed' 'career change' 'performance' 'no-call, no-show'\n",
      " 'hours' 'medical issues' 'N/A - Has not started yet' 'Another position'\n",
      " 'retiring' 'attendance' 'unhappy' 'return to school'\n",
      " 'relocation out of area' 'military' 'more money'\n",
      " 'maternity leave - did not return' 'gross misconduct']\n",
      "17\n",
      "['Active' 'Voluntarily Terminated' 'Terminated for Cause'\n",
      " 'Leave of Absence' 'Future Start']\n",
      "5\n",
      "['Admin Offices' 'Executive Office' 'IT/IS' 'Production' 'Sales'\n",
      " 'Software Engineering']\n",
      "6\n",
      "['Accountant I' 'Administrative Assistant' 'Shared Services Manager'\n",
      " 'Sr. Accountant' 'President & CEO' 'CIO' 'Database Administrator'\n",
      " 'IT Director' 'IT Manager - DB' 'IT Manager - Infra'\n",
      " 'IT Manager - Support' 'IT Support' 'Network Engineer' 'Sr. DBA'\n",
      " 'Sr. Network Engineer' 'Director of Operations' 'Production Manager'\n",
      " 'Production Technician I' 'Production Technician II' 'Area Sales Manager'\n",
      " 'Director of Sales' 'Sales Manager' 'Software Engineer'\n",
      " 'Software Engineering Manager']\n",
      "24\n",
      "[28.5  23.   29.   21.5  16.56 20.5  55.   34.95 80.   65.   43.   48.5\n",
      " 40.1  34.   40.   35.5  41.   42.75 39.55 42.2  45.   30.2  31.4  62.\n",
      " 21.   63.   64.   28.99 26.   27.49 42.   37.   39.   27.   47.   28.\n",
      " 49.1  61.3  58.2  58.5  54.1  56.2  53.8  53.   55.2  60.   54.5  50.5\n",
      " 51.   54.   38.5  52.   33.5  20.   16.   22.   17.   16.76 18.   19.5\n",
      " 24.75 15.   15.75 19.75 23.5  16.75 21.25 24.   19.   14.   15.25 18.5\n",
      " 15.2  24.5  25.   24.25 22.5  26.1  26.39 28.75 56.   55.5  57.   60.25\n",
      " 47.6  57.12 55.51 52.25 49.25 48.   45.42]\n",
      "91\n",
      "['Brandon R. LeBlanc' 'Janet King' 'Board of Directors' 'Simon Roup'\n",
      " 'Jennifer Zamora' 'Eric Dougall' 'Peter Monroe' 'Michael Albert'\n",
      " 'Elijiah Gray' 'Webster Butler' 'Amy Dunn' 'Ketsia Liebig'\n",
      " 'Brannon Miller' 'David Stanley' 'Kissy Sullivan' 'Kelley Spirea'\n",
      " 'Lynn Daneault' 'John Smith' 'Debra Houlihan' 'Alex Sweetwater']\n",
      "20\n",
      "['Diversity Job Fair' 'Website Banner Ads' 'Internet Search'\n",
      " 'Pay Per Click - Google' 'Monster.com' 'Other' 'Employee Referral'\n",
      " 'Search Engine - Google Bing Yahoo' 'Glassdoor' 'Vendor Referral'\n",
      " 'Professional Society' 'Information Session' 'Company Intranet - Partner'\n",
      " 'On-campus Recruiting' 'Billboard' 'MBTA ads' 'Word of Mouth'\n",
      " 'Social Networks - Facebook Twitter etc' 'On-line Web application'\n",
      " 'Newspager/Magazine' 'Pay Per Click' 'Careerbuilder']\n",
      "22\n",
      "['Fully Meets' 'N/A- too early to review' '90-day meets' 'Exceptional'\n",
      " 'Needs Improvement' 'Exceeds' 'PIP']\n",
      "7\n"
     ]
    }
   ],
   "source": [
    "for col in data.columns:\n",
    "    print(data[col].unique())\n",
    "    print(data[col].nunique())"
   ]
  },
  {
   "cell_type": "code",
   "execution_count": 9,
   "metadata": {},
   "outputs": [
    {
     "name": "stdout",
     "output_type": "stream",
     "text": [
      "Empty DataFrame\n",
      "Columns: [employee_name, employee_number, state, zip, dob, age, sex, maritaldesc, citizendesc, hispanic_latino, racedesc, date_of_hire, date_of_termination, reason_for_term, employment_status, department, position, pay_rate, manager_name, employee_source, performance_score]\n",
      "Index: []\n",
      "\n",
      "[0 rows x 21 columns]\n",
      "     employee_name  employee_number state     zip        dob   age     sex  \\\n",
      "3  Howard, Estelle     1.211051e+09    MA  2170.0 1985-09-16  32.0  Female   \n",
      "\n",
      "  maritaldesc citizendesc hispanic_latino  ... date_of_hire  \\\n",
      "3     Married  US Citizen              No  ...   2015-02-16   \n",
      "\n",
      "  date_of_termination       reason_for_term employment_status     department  \\\n",
      "3          2015-04-15  N/A - still employed            Active  Admin Offices   \n",
      "\n",
      "                   position pay_rate        manager_name  \\\n",
      "3  Administrative Assistant     21.5  Brandon R. LeBlanc   \n",
      "\n",
      "          employee_source         performance_score  \n",
      "3  Pay Per Click - Google  N/A- too early to review  \n",
      "\n",
      "[1 rows x 21 columns]\n",
      "      employee_name  employee_number state     zip        dob   age   sex  \\\n",
      "45  Favis, Donald       1.412072e+09    CT  6033.0 1964-07-30  53.0  Male   \n",
      "\n",
      "   maritaldesc citizendesc hispanic_latino  ... date_of_hire  \\\n",
      "45      Single  US Citizen              No  ...   2014-02-17   \n",
      "\n",
      "   date_of_termination reason_for_term     employment_status department  \\\n",
      "45          2016-02-19           hours  Terminated for Cause      IT/IS   \n",
      "\n",
      "   position pay_rate  manager_name  employee_source performance_score  \n",
      "45  Sr. DBA     58.2    Simon Roup  Vendor Referral       Fully Meets  \n",
      "\n",
      "[1 rows x 21 columns]\n",
      "       employee_name  employee_number state     zip        dob   age   sex  \\\n",
      "18  Pearson, Randall     1.102024e+09    MA  2747.0 1984-09-05  33.0  Male   \n",
      "\n",
      "   maritaldesc citizendesc hispanic_latino  ... date_of_hire  \\\n",
      "18     Married  US Citizen              No  ...   2014-12-01   \n",
      "\n",
      "   date_of_termination reason_for_term       employment_status department  \\\n",
      "18          2016-05-01     performance  Voluntarily Terminated      IT/IS   \n",
      "\n",
      "                  position pay_rate  manager_name    employee_source  \\\n",
      "18  Database Administrator     41.0    Simon Roup  Employee Referral   \n",
      "\n",
      "   performance_score  \n",
      "18       Fully Meets  \n",
      "\n",
      "[1 rows x 21 columns]\n",
      "         employee_name  employee_number state     zip        dob   age   sex  \\\n",
      "172  Robinson, Alain       1.206038e+09    MA  1420.0 1974-01-07  44.0  Male   \n",
      "\n",
      "    maritaldesc citizendesc hispanic_latino  ... date_of_hire  \\\n",
      "172     Married  US Citizen              No  ...   2011-01-10   \n",
      "\n",
      "    date_of_termination reason_for_term       employment_status  department  \\\n",
      "172          2016-01-26      attendance  Voluntarily Terminated  Production   \n",
      "\n",
      "                    position pay_rate  manager_name employee_source  \\\n",
      "172  Production Technician I     24.0      Amy Dunn       Glassdoor   \n",
      "\n",
      "    performance_score  \n",
      "172       Fully Meets  \n",
      "\n",
      "[1 rows x 21 columns]\n"
     ]
    }
   ],
   "source": [
    "#Double Check to make sure there are no dodgy situations\n",
    "print(data[((data['employment_status'] == 'Voluntarily Terminated')|(data['employment_status'] == 'Terminated for Cause'))& (data.date_of_termination.isnull())])\n",
    "print(data[((data['employment_status'] == 'Active')|(data['employment_status'] == 'Leave of Absence')|(data['employment_status'] == 'Future Start'))& (data.date_of_termination.notnull())])\n",
    "print(data[((data['employment_status'] == 'Terminated for Cause'))& (data.reason_for_term=='hours')])\n",
    "print(data[((data['employment_status'] == 'Voluntarily Terminated'))& (data.reason_for_term=='performance')])\n",
    "print(data[((data['employment_status'] == 'Voluntarily Terminated'))& (data.reason_for_term=='attendance')])"
   ]
  },
  {
   "cell_type": "code",
   "execution_count": 10,
   "metadata": {},
   "outputs": [],
   "source": [
    "#Removing the termination date for the active employee\n",
    "data.loc[3,'date_of_termination']=pd.NaT\n",
    "#Turning voluntary into caused for reasons: performance and attendance\n",
    "data.loc[[18,172],'reason_for_term']='Terminated for Cause'\n",
    "#Turning cause into voluntary for reasons: hours\n",
    "data.loc[45,'reason_for_term']='Voluntarily Terminated'"
   ]
  },
  {
   "cell_type": "code",
   "execution_count": 11,
   "metadata": {},
   "outputs": [
    {
     "name": "stdout",
     "output_type": "stream",
     "text": [
      "Empty cells in employee_name: 0\n",
      "Empty cells in employee_number: 0\n",
      "Empty cells in state: 0\n",
      "Empty cells in zip: 0\n",
      "Empty cells in dob: 0\n",
      "Empty cells in age: 0\n",
      "Empty cells in sex: 0\n",
      "Empty cells in maritaldesc: 0\n",
      "Empty cells in citizendesc: 0\n",
      "Empty cells in hispanic_latino: 0\n",
      "Empty cells in racedesc: 0\n",
      "Empty cells in date_of_hire: 0\n",
      "Empty cells in date_of_termination: 199\n",
      "Empty cells in reason_for_term: 0\n",
      "Empty cells in employment_status: 0\n",
      "Empty cells in department: 0\n",
      "Empty cells in position: 0\n",
      "Empty cells in pay_rate: 0\n",
      "Empty cells in manager_name: 0\n",
      "Empty cells in employee_source: 0\n"
     ]
    }
   ],
   "source": [
    "# Are they empty cells? Look for Just spaces and NaN\n",
    "for i in range(len(data.columns)-1):\n",
    "    counter = data.iloc[:,i].isnull().sum()\n",
    "    for j in range(len(data)-1):\n",
    "        if (data.iloc[j,i]==' '):\n",
    "            counter += 1        \n",
    "    print('Empty cells in {f:}: {n:}'.format(f=data.columns[i], n=counter))"
   ]
  },
  {
   "cell_type": "markdown",
   "metadata": {},
   "source": [
    "Correct, there are no missing cells except in the termination date data. "
   ]
  },
  {
   "cell_type": "markdown",
   "metadata": {},
   "source": [
    "Converting the performance into a score so one can compare. "
   ]
  },
  {
   "cell_type": "code",
   "execution_count": 12,
   "metadata": {},
   "outputs": [
    {
     "name": "stderr",
     "output_type": "stream",
     "text": [
      "/Library/Frameworks/Python.framework/Versions/3.7/lib/python3.7/site-packages/IPython/core/interactiveshell.py:3291: FutureWarning: specifying 'categories' or 'ordered' in .astype() is deprecated; pass a CategoricalDtype instead\n",
      "  exec(code_obj, self.user_global_ns, self.user_ns)\n"
     ]
    }
   ],
   "source": [
    "order=['N/A- too early to review','PIP','Needs Improvement','90-day meets','Fully Meets','Exceeds','Exceptional']\n",
    "data[\"performance_score\"] = data[\"performance_score\"].astype('category',ordered=True,categories=order).cat.codes"
   ]
  },
  {
   "cell_type": "code",
   "execution_count": 13,
   "metadata": {},
   "outputs": [],
   "source": [
    "#Save core dataset, but keep working in this notebook as all the datetime will be reverted if re-importing\n",
    "data.to_csv(r'/Users/saschafrey/Documents/EPFL/MA2/Data Science/DSIP/clean_core.csv')"
   ]
  },
  {
   "cell_type": "code",
   "execution_count": 39,
   "metadata": {},
   "outputs": [
    {
     "data": {
      "text/plain": [
       "38.548172757475086"
      ]
     },
     "execution_count": 39,
     "metadata": {},
     "output_type": "execute_result"
    }
   ],
   "source": [
    "data.age.mean()"
   ]
  },
  {
   "cell_type": "markdown",
   "metadata": {},
   "source": [
    "# 1. Looking for ROI of recruitment activities"
   ]
  },
  {
   "cell_type": "code",
   "execution_count": 14,
   "metadata": {},
   "outputs": [],
   "source": [
    "#Import recruitment costs for the different channels.\n",
    "rec=pd.read_csv('human-resources-data-set/recruiting_costs.csv',index_col=0)"
   ]
  },
  {
   "cell_type": "code",
   "execution_count": 15,
   "metadata": {},
   "outputs": [],
   "source": [
    "#Create new column that is supposed to represent value of an employee. \n",
    "pd.to_numeric(data.performance_score)\n",
    "data['tenure']=data['date_of_termination'].fillna(dt.datetime(2016,7,1))-data['date_of_hire']\n",
    "data['tenure']=data['tenure'].dt.days\n",
    "data['return']=data['pay_rate']*data['performance_score'].replace(0,3)*data['tenure']"
   ]
  },
  {
   "cell_type": "code",
   "execution_count": 16,
   "metadata": {},
   "outputs": [],
   "source": [
    "rec['return_mean']=data[['return','employee_source']].groupby('employee_source').mean()['return']\n",
    "rec['return_sum']=data[['return','employee_source']].groupby('employee_source').sum()['return']\n",
    "rec.return_sum=rec.return_sum/(rec.return_sum.max()-rec.return_sum.min())*10000\n",
    "rec['ROI']=rec['return_sum']/(rec['Total'].replace(0,1))"
   ]
  },
  {
   "cell_type": "code",
   "execution_count": 17,
   "metadata": {},
   "outputs": [],
   "source": [
    "rec1=rec[rec['Total']!=0]\n",
    "#Choosing those sources with or without costs--> Can export accordingly"
   ]
  },
  {
   "cell_type": "code",
   "execution_count": 18,
   "metadata": {},
   "outputs": [],
   "source": [
    "rec[['Total','return_mean','return_sum','ROI']].to_csv(r'/Users/saschafrey/Documents/EPFL/MA2/Data Science/DSIP/ROI.csv')"
   ]
  },
  {
   "cell_type": "code",
   "execution_count": 19,
   "metadata": {},
   "outputs": [
    {
     "data": {
      "text/plain": [
       "<matplotlib.axes._subplots.AxesSubplot at 0x107ebbac8>"
      ]
     },
     "execution_count": 19,
     "metadata": {},
     "output_type": "execute_result"
    },
    {
     "data": {
      "image/png": "[encoded data removed]",
      "text/plain": [
       "<Figure size 432x288 with 1 Axes>"
      ]
     },
     "metadata": {
      "needs_background": "light"
     },
     "output_type": "display_data"
    }
   ],
   "source": [
    "rec1.plot.bar(y='ROI')"
   ]
  },
  {
   "cell_type": "markdown",
   "metadata": {},
   "source": [
    "# 4. Looking if there is fair compensation for employees"
   ]
  },
  {
   "cell_type": "code",
   "execution_count": 195,
   "metadata": {},
   "outputs": [],
   "source": [
    "pay=pd.read_csv('human-resources-data-set/salary_grid.csv',index_col=0)\n",
    "abut=pd.read_csv('human-resources-data-set/production_staff.csv')"
   ]
  },
  {
   "cell_type": "code",
   "execution_count": 196,
   "metadata": {},
   "outputs": [],
   "source": [
    "data['rel_pay']=data['pay_rate']/data['position'].map(pay.mid_hr)\n"
   ]
  },
  {
   "cell_type": "code",
   "execution_count": 197,
   "metadata": {},
   "outputs": [],
   "source": [
    "pay = data.drop(columns=['employee_number','dob','date_of_hire','date_of_termination','reason_for_term','employment_status','department','position','manager_name'])\n",
    "pay=pay[pay['rel_pay'].notnull()]"
   ]
  },
  {
   "cell_type": "code",
   "execution_count": 198,
   "metadata": {},
   "outputs": [
    {
     "data": {
      "text/html": [
       "<div>\n",
       "<style scoped>\n",
       "    .dataframe tbody tr th:only-of-type {\n",
       "        vertical-align: middle;\n",
       "    }\n",
       "\n",
       "    .dataframe tbody tr th {\n",
       "        vertical-align: top;\n",
       "    }\n",
       "\n",
       "    .dataframe thead th {\n",
       "        text-align: right;\n",
       "    }\n",
       "</style>\n",
       "<table border=\"1\" class=\"dataframe\">\n",
       "  <thead>\n",
       "    <tr style=\"text-align: right;\">\n",
       "      <th></th>\n",
       "      <th>zip</th>\n",
       "      <th>age</th>\n",
       "      <th>pay_rate</th>\n",
       "      <th>performance_score</th>\n",
       "      <th>tenure</th>\n",
       "      <th>return</th>\n",
       "      <th>rel_pay</th>\n",
       "    </tr>\n",
       "    <tr>\n",
       "      <th>hispanic_latino</th>\n",
       "      <th></th>\n",
       "      <th></th>\n",
       "      <th></th>\n",
       "      <th></th>\n",
       "      <th></th>\n",
       "      <th></th>\n",
       "      <th></th>\n",
       "    </tr>\n",
       "  </thead>\n",
       "  <tbody>\n",
       "    <tr>\n",
       "      <th>No</th>\n",
       "      <td>2497.682464</td>\n",
       "      <td>38.454976</td>\n",
       "      <td>24.226588</td>\n",
       "      <td>3.232227</td>\n",
       "      <td>921.933649</td>\n",
       "      <td>79223.762180</td>\n",
       "      <td>1.048086</td>\n",
       "    </tr>\n",
       "    <tr>\n",
       "      <th>Yes</th>\n",
       "      <td>2187.047619</td>\n",
       "      <td>36.952381</td>\n",
       "      <td>25.057143</td>\n",
       "      <td>3.238095</td>\n",
       "      <td>803.714286</td>\n",
       "      <td>69587.145238</td>\n",
       "      <td>1.030527</td>\n",
       "    </tr>\n",
       "  </tbody>\n",
       "</table>\n",
       "</div>"
      ],
      "text/plain": [
       "                         zip        age   pay_rate  performance_score  \\\n",
       "hispanic_latino                                                         \n",
       "No               2497.682464  38.454976  24.226588           3.232227   \n",
       "Yes              2187.047619  36.952381  25.057143           3.238095   \n",
       "\n",
       "                     tenure        return   rel_pay  \n",
       "hispanic_latino                                      \n",
       "No               921.933649  79223.762180  1.048086  \n",
       "Yes              803.714286  69587.145238  1.030527  "
      ]
     },
     "execution_count": 198,
     "metadata": {},
     "output_type": "execute_result"
    }
   ],
   "source": [
    "pay.groupby('hispanic_latino').mean()"
   ]
  },
  {
   "cell_type": "code",
   "execution_count": 199,
   "metadata": {},
   "outputs": [],
   "source": [
    "pay.to_csv(r'/Users/saschafrey/Documents/EPFL/MA2/Data Science/DSIP/Project/pay.csv')\n",
    "#Export and look at results in tableau "
   ]
  },
  {
   "cell_type": "markdown",
   "metadata": {},
   "source": [
    "# 2. Classify Employees to try and predict those who will leave soon"
   ]
  },
  {
   "cell_type": "code",
   "execution_count": 25,
   "metadata": {},
   "outputs": [],
   "source": [
    "classify=data[['age','sex','maritaldesc','citizendesc','racedesc','employment_status','department','position','pay_rate','manager_name','performance_score','tenure','rel_pay']]"
   ]
  },
  {
   "cell_type": "code",
   "execution_count": 26,
   "metadata": {},
   "outputs": [
    {
     "name": "stderr",
     "output_type": "stream",
     "text": [
      "/Library/Frameworks/Python.framework/Versions/3.7/lib/python3.7/site-packages/pandas/core/indexing.py:543: SettingWithCopyWarning: \n",
      "A value is trying to be set on a copy of a slice from a DataFrame.\n",
      "Try using .loc[row_indexer,col_indexer] = value instead\n",
      "\n",
      "See the caveats in the documentation: http://pandas.pydata.org/pandas-docs/stable/indexing.html#indexing-view-versus-copy\n",
      "  self.obj[item] = s\n"
     ]
    }
   ],
   "source": [
    "order_mar=['Married','Single','Separated','Divorced','Widowed']\n",
    "classify.loc[:,'maritaldesc'] = classify['maritaldesc'].astype('category',ordered=True,categories=order_mar).cat.codes\n",
    "pd.to_numeric(classify.maritaldesc)\n",
    "order_cit=['US Citizen','Eligible NonCitizen','Non-Citizen']\n",
    "classify.loc[:,'citizendesc'] = classify['citizendesc'].astype('category',ordered=True,categories=order_cit).cat.codes\n",
    "pd.to_numeric(classify.citizendesc)\n",
    "order_race=['White','Asian','Black or African American','Two or more races','Hispanic','American Indian or Alaska Native']\n",
    "classify.loc[:,\"racedesc\"] = classify[\"racedesc\"].astype('category',ordered=True,categories=order_race).cat.codes\n",
    "pd.to_numeric(classify.racedesc)\n",
    "order_sex=['Female','Male']\n",
    "classify.loc[:,\"sex\"] = classify[\"sex\"].astype('category',ordered=True,categories=order_sex).cat.codes\n",
    "pd.to_numeric(classify.sex)\n",
    "order_dept=['Admin Offices','Executive Office','IT/IS','Production','Sales','Software Engineering']\n",
    "classify.loc[:,\"department\"] = classify[\"department\"].astype('category',ordered=True,categories=order_dept).cat.codes\n",
    "pd.to_numeric(classify.department)\n",
    "\n",
    "order_pos=['Accountant I','Administrative Assistant','Shared Services Manager',\n",
    "           'Sr. Accountant','President & CEO','CIO','Database Administrator',\n",
    "           'IT Director','IT Manager - DB','IT Manager - Infra',\n",
    "           'IT Manager - Support','IT Support','Network Engineer','Sr. DBA',\n",
    "           'Sr. Network Engineer','Director of Operations','Production Manager',\n",
    "           'Production Technician I','Production Technician II','Area Sales Manager',\n",
    "           'Director of Sales','Sales Manager','Software Engineer',\n",
    "           'Software Engineering Manager']\n",
    "classify.loc[:,\"position\"] = classify[\"position\"].astype('category',ordered=True,categories=order_pos).cat.codes\n",
    "pd.to_numeric(classify.position)\n",
    "order_man=['Brandon R. LeBlanc','Janet King','Board of Directors','Simon Roup',\n",
    "           'Jennifer Zamora','Eric Dougall','Peter Monroe','Michael Albert',\n",
    "           'Elijiah Gray','Webster Butler','Amy Dunn','Ketsia Liebig',\n",
    "           'Brannon Miller','David Stanley','Kissy Sullivan','Kelley Spirea',\n",
    "           'Lynn Daneault','John Smith','Debra Houlihan','Alex Sweetwater']\n",
    "classify.loc[:,\"manager_name\"] = classify[\"manager_name\"].astype('category',ordered=True,categories=order_man).cat.codes\n",
    "pd.to_numeric(classify.manager_name)\n",
    "order_emp=['Active','Voluntarily Terminated','Terminated for Cause','Leave of Absence','Future Start']\n",
    "classify.loc[:,\"employment_status\"] = classify[\"employment_status\"].astype('category',ordered=True,categories=order_emp).cat.codes\n",
    "pd.to_numeric(classify.employment_status)\n",
    "classify.loc[:,'employment_status']=classify.employment_status.replace(4,0).replace(3,0)"
   ]
  },
  {
   "cell_type": "code",
   "execution_count": 27,
   "metadata": {},
   "outputs": [
    {
     "name": "stderr",
     "output_type": "stream",
     "text": [
      "/Library/Frameworks/Python.framework/Versions/3.7/lib/python3.7/site-packages/ipykernel_launcher.py:3: DataConversionWarning: Data with input dtype int8, int64, float64 were all converted to float64 by the scale function.\n",
      "  This is separate from the ipykernel package so we can avoid doing imports until\n"
     ]
    }
   ],
   "source": [
    "classes=classify.employment_status\n",
    "classify=classify.drop(columns=['rel_pay','employment_status'])\n",
    "classify_proc=preprocessing.scale(classify)"
   ]
  },
  {
   "cell_type": "markdown",
   "metadata": {},
   "source": [
    "classify_proc is scaled data, classes is the true value (employment status) "
   ]
  },
  {
   "cell_type": "code",
   "execution_count": 28,
   "metadata": {},
   "outputs": [
    {
     "name": "stdout",
     "output_type": "stream",
     "text": [
      "[[-0.73344096 -0.85433311 -0.88846145 ... -2.01874601  0.41156018\n",
      "   2.73820265]\n",
      " [-0.62143399  1.17050363  1.8875963  ... -2.01874601  0.41156018\n",
      "  -0.12401854]\n",
      " [-0.84544792  1.17050363  0.03689113 ... -2.01874601  0.41156018\n",
      "  -0.52536321]\n",
      " ...\n",
      " [-0.50942703  1.17050363  0.03689113 ...  1.83479486  1.71555611\n",
      "  -0.39862279]\n",
      " [-0.50942703  1.17050363  0.03689113 ...  1.83479486  0.41156018\n",
      "  -0.85730241]\n",
      " [ 1.39469138  1.17050363  0.03689113 ... -1.20747425  0.41156018\n",
      "   1.19619418]]\n"
     ]
    }
   ],
   "source": [
    "print(classify_proc)"
   ]
  },
  {
   "cell_type": "code",
   "execution_count": 29,
   "metadata": {},
   "outputs": [
    {
     "data": {
      "image/png": "[encoded data removed]",
      "text/plain": [
       "<Figure size 432x288 with 2 Axes>"
      ]
     },
     "metadata": {
      "needs_background": "light"
     },
     "output_type": "display_data"
    }
   ],
   "source": [
    "pca=decomposition.PCA(n_components=5)\n",
    "pca.fit(classify_proc)\n",
    "pca.n_components_\n",
    "x=pca.transform(classify_proc)\n",
    "colors=['red','green','blue']\n",
    "plt.scatter(x[:,0], x[:,1], c=classes,cmap=matplotlib.colors.ListedColormap(colors))\n",
    "\n",
    "cb = plt.colorbar()\n",
    "loc = np.arange(0,max(classes),max(classes)/float(len(colors)))\n",
    "cb.set_ticks(loc)\n",
    "cb.set_ticklabels(colors)"
   ]
  },
  {
   "cell_type": "code",
   "execution_count": 30,
   "metadata": {},
   "outputs": [],
   "source": [
    "x_train, x_test, y_train, y_test = model_selection.train_test_split(x, classes, test_size=0.3)"
   ]
  },
  {
   "cell_type": "code",
   "execution_count": 31,
   "metadata": {},
   "outputs": [
    {
     "data": {
      "text/plain": [
       "0.43956043956043955"
      ]
     },
     "execution_count": 31,
     "metadata": {},
     "output_type": "execute_result"
    }
   ],
   "source": [
    "clfr=naive_bayes.GaussianNB()\n",
    "clfr.fit(x_train,y_train)\n",
    "y_est=clfr.predict(x_test)\n",
    "np.count_nonzero(y_est-y_test)/len(y_test)"
   ]
  },
  {
   "cell_type": "code",
   "execution_count": 32,
   "metadata": {},
   "outputs": [
    {
     "data": {
      "text/plain": [
       "0.4065934065934066"
      ]
     },
     "execution_count": 32,
     "metadata": {},
     "output_type": "execute_result"
    }
   ],
   "source": [
    "clfr=neighbors.KNeighborsClassifier()\n",
    "clfr.fit(x_train,y_train)\n",
    "y_est=clfr.predict(x_test)\n",
    "np.count_nonzero(y_est-y_test)/len(y_test)"
   ]
  },
  {
   "cell_type": "code",
   "execution_count": 33,
   "metadata": {},
   "outputs": [
    {
     "data": {
      "text/plain": [
       "0.3956043956043956"
      ]
     },
     "execution_count": 33,
     "metadata": {},
     "output_type": "execute_result"
    }
   ],
   "source": [
    "clfr=ensemble.RandomForestClassifier(n_estimators=50)\n",
    "clfr.fit(x_train,y_train)\n",
    "y_est=clfr.predict(x_test)\n",
    "np.count_nonzero(y_est-y_test)/len(y_test)"
   ]
  },
  {
   "cell_type": "code",
   "execution_count": 34,
   "metadata": {},
   "outputs": [
    {
     "data": {
      "text/plain": [
       "0.46153846153846156"
      ]
     },
     "execution_count": 34,
     "metadata": {},
     "output_type": "execute_result"
    }
   ],
   "source": [
    "clfr=linear_model.LogisticRegression(solver='lbfgs',multi_class='multinomial')\n",
    "clfr.fit(x_train,y_train)\n",
    "y_est=clfr.predict(x_test)\n",
    "np.count_nonzero(y_est-y_test)/len(y_test)"
   ]
  },
  {
   "cell_type": "markdown",
   "metadata": {},
   "source": [
    "# 3. Identify leadership structure and define good leaders"
   ]
  },
  {
   "cell_type": "code",
   "execution_count": 41,
   "metadata": {},
   "outputs": [
    {
     "name": "stdout",
     "output_type": "stream",
     "text": [
      "\n",
      "\n"
     ]
    },
    {
     "data": {
      "image/png": "[encoded data removed]",
      "text/plain": [
       "<Figure size 864x936 with 1 Axes>"
      ]
     },
     "metadata": {
      "needs_background": "light"
     },
     "output_type": "display_data"
    }
   ],
   "source": [
    "managers=data[['employee_name','manager_name']]\n",
    "adj_matr=np.zeros(301*301).reshape(301,301)\n",
    "\n",
    "indx = {'Brandon R. LeBlanc':6, 'Janet King':10,'Simon Roup':26,\n",
    "        'Jennifer Zamora':11,'Eric Dougall':29,'Peter Monroe':28,'Michael Albert':53,\n",
    "        'Elijiah Gray':57,'Webster Butler':55, 'Amy Dunn':56,'Ketsia Liebig':60,\n",
    "        'Brannon Miller':61, 'David Stanley':64, 'Kissy Sullivan':65, 'Kelley Spirea':63,\n",
    "        'Lynn Daneault':288, 'John Smith':290, 'Debra Houlihan':287, 'Alex Sweetwater':300}\n",
    "\n",
    "print('\\n')\n",
    "\n",
    "for i in range(301):\n",
    "    if managers.loc[i,'manager_name']!='Board of Directors':\n",
    "        adj_matr[i,indx.get(managers.loc[i,'manager_name'])]=1\n",
    "        #adj_matr[indx.get(managers.loc[i,'manager_name']),i]=1\n",
    "plt.figure(figsize=(12,13))\n",
    "fig=plt.spy(adj_matr, markersize=1)\n",
    "plt.savefig('adj.png',dpi=1000)"
   ]
  },
  {
   "cell_type": "code",
   "execution_count": null,
   "metadata": {},
   "outputs": [],
   "source": [
    "#G = nx.from_numpy_matrix(adj_matr)\n",
    "#pos_nodes = nx.spring_layout(G)"
   ]
  },
  {
   "cell_type": "code",
   "execution_count": 166,
   "metadata": {},
   "outputs": [
    {
     "name": "stdout",
     "output_type": "stream",
     "text": [
      "{0: '#fff', 1: '#e4ddda', 2: '#d5c6aa', 3: '#cfcf70', 4: '#9cd52b', 5: '#45b010', 6: '#008000'}\n"
     ]
    }
   ],
   "source": [
    "from colour import Color\n",
    "red = Color('white')\n",
    "colors = list(red.range_to(Color('green'),7))\n",
    "color_dict = {key: value.hex for key, value in enumerate(colors)}\n",
    "color_map = []\n",
    "for node in G:\n",
    "    color_map.append(color_dict.get(data.performance_score[node]))"
   ]
  },
  {
   "cell_type": "code",
   "execution_count": 179,
   "metadata": {},
   "outputs": [
    {
     "ename": "AttributeError",
     "evalue": "'dict' object has no attribute 'tolist'",
     "output_type": "error",
     "traceback": [
      "\u001b[0;31m---------------------------------------------------------------------------\u001b[0m",
      "\u001b[0;31mAttributeError\u001b[0m                            Traceback (most recent call last)",
      "\u001b[0;32m<ipython-input-179-2327a7b4e521>\u001b[0m in \u001b[0;36m<module>\u001b[0;34m\u001b[0m\n\u001b[0;32m----> 1\u001b[0;31m \u001b[0mnx\u001b[0m\u001b[0;34m.\u001b[0m\u001b[0mget_node_attributes\u001b[0m\u001b[0;34m(\u001b[0m\u001b[0mG\u001b[0m\u001b[0;34m,\u001b[0m\u001b[0;34m'perf'\u001b[0m\u001b[0;34m)\u001b[0m\u001b[0;34m.\u001b[0m\u001b[0mtolist\u001b[0m\u001b[0;34m(\u001b[0m\u001b[0;34m)\u001b[0m\u001b[0;34m\u001b[0m\u001b[0;34m\u001b[0m\u001b[0m\n\u001b[0m",
      "\u001b[0;31mAttributeError\u001b[0m: 'dict' object has no attribute 'tolist'"
     ]
    }
   ],
   "source": [
    "nx.get_node_attributes(G,'perf').tolist()"
   ]
  },
  {
   "cell_type": "code",
   "execution_count": 188,
   "metadata": {},
   "outputs": [
    {
     "data": {
      "image/png": "[encoded data removed]",
      "text/plain": [
       "<Figure size 432x288 with 1 Axes>"
      ]
     },
     "metadata": {},
     "output_type": "display_data"
    }
   ],
   "source": [
    "\n",
    "plt.figure()\n",
    "\n",
    "color_dict={0:'green',1:'yellow',2:'red'}\n",
    "\n",
    "color_map = []\n",
    "for node in G:\n",
    "    color_map.append(color_dict.get(classes[node]))\n",
    "    \n",
    "from colour import Color\n",
    "red = Color('white')\n",
    "colors = list(red.range_to(Color('green'),7))\n",
    "color_dict = {key: value.hex for key, value in enumerate(colors)}\n",
    "color_map = []\n",
    "for node in G:\n",
    "    color_map.append(color_dict.get(data.performance_score[node]))\n",
    "\n",
    "nx.set_node_attributes(G, data.performance_score, 'perf')\n",
    "\n",
    "nx.draw(G, pos_nodes,node_size=4,node_color=data.performance_score.replace(0,3),vmin=1,vmax=6,cmap = 'RdYlGn', with_labels=True,font_size=2,font_color='black',edge_color='grey',width=0.1)\n",
    "\n",
    "pos_attrs = {}\n",
    "for node, coords in pos_nodes.items():\n",
    "    pos_attrs[node] = [coords[0], coords[1] + 0.02]\n",
    "\n",
    "managers=[6,10,26,11,29,28,53,57,55,56,60,61,64,65,63,288,290,287,300]\n",
    "pos = { manager: pos_nodes[manager] for manager in managers }    \n",
    "lab = dict(map(reversed, indx.items()))\n",
    "\n",
    "\n",
    "pos_attrs[61]=(pos_attrs[61]+np.array([0.01,0.01])).tolist()\n",
    "pos_attrs[55]=(pos_attrs[55]+np.array([0.07,0.01])).tolist()\n",
    "pos_attrs[56]=(pos_attrs[56]+np.array([0.0,0.01])).tolist()\n",
    "pos_attrs[6]=(pos_attrs[6]+np.array([-0.02,0])).tolist()\n",
    "pos_attrs[65]=(pos_attrs[65]+np.array([0,-0.04])).tolist()\n",
    "pos_attrs[10]=(pos_attrs[10]+np.array([0,-0.005])).tolist()\n",
    "pos_attrs[290]=(pos_attrs[290]+np.array([0,-0.005])).tolist()\n",
    "#node_attrs = nx.get_node_attributes(G, 'type')\n",
    "#custom_node_attrs = {}\n",
    "#for node, attr in node_attrs.items():\n",
    "#    custom_node_attrs[node] = \"{'type': '\" + attr + \"'}\"\n",
    "\n",
    "nx.draw_networkx_labels(G, pos_attrs, labels=lab,font_size=2.5,font_weight='bold')\n",
    "plt.savefig('graph1.png',dpi=1000)"
   ]
  },
  {
   "cell_type": "code",
   "execution_count": 124,
   "metadata": {
    "scrolled": true
   },
   "outputs": [
    {
     "data": {
      "text/plain": [
       "[-0.3040807445289468, 1.127651376801071]"
      ]
     },
     "execution_count": 124,
     "metadata": {},
     "output_type": "execute_result"
    }
   ],
   "source": [
    "(pos_attrs[61]+np.array([0,1])).tolist()"
   ]
  },
  {
   "cell_type": "code",
   "execution_count": 86,
   "metadata": {},
   "outputs": [
    {
     "name": "stdout",
     "output_type": "stream",
     "text": [
      "[-0.21428286 -0.01775859]\n",
      "dict_items([(0, array([-0.21428286, -0.01775859])), (1, array([-0.21092276,  0.00756685])), (2, array([-0.20369111, -0.03653806])), (3, array([-0.1688913 , -0.04380959])), (4, array([-0.18777666, -0.05013717])), (5, array([-0.19171838,  0.02198454])), (6, array([-0.15789328, -0.00813251])), (7, array([-0.07834068,  0.03858466])), (8, array([-0.19498521, -0.00838338])), (9, array([1.        , 0.56689298])), (10, array([-0.03717447,  0.02269523])), (11, array([ 0.04877173, -0.31036637])), (12, array([ 0.21573383, -0.57602584])), (13, array([ 0.26557076, -0.59477059])), (14, array([ 0.282896 , -0.5338797])), (15, array([ 0.29516763, -0.5491864 ])), (16, array([ 0.25604992, -0.56663935])), (17, array([ 0.25019946, -0.58318933])), (18, array([ 0.28755193, -0.51320705])), (19, array([ 0.30698261, -0.5374921 ])), (20, array([ 0.28163584, -0.56456304])), (21, array([ 0.22624352, -0.59190064])), (22, array([ 0.30368381, -0.51927163])), (23, array([ 0.28855601, -0.58066869])), (24, array([ 0.27188162, -0.58017763])), (25, array([ 0.10631696, -0.35188554])), (26, array([ 0.23101432, -0.51424879])), (27, array([ 0.11269243, -0.32911074])), (28, array([-0.0640247, -0.5107973])), (29, array([ 0.14382439, -0.40645114])), (30, array([ 0.19048794, -0.44567531])), (31, array([ 0.20158524, -0.43077059])), (32, array([ 0.17794793, -0.45987638])), (33, array([ 0.16016048, -0.46845837])), (34, array([-0.06189314, -0.59333084])), (35, array([-0.11924827, -0.56524329])), (36, array([-0.08110436, -0.59280201])), (37, array([-0.05237712, -0.57729561])), (38, array([-0.10393738, -0.57059908])), (39, array([-0.07055392, -0.53986809])), (40, array([-0.12421413, -0.49977092])), (41, array([-0.03928067, -0.58453938])), (42, array([-0.1244313 , -0.54242186])), (43, array([ 0.23419035, -0.57071344])), (44, array([ 0.243844  , -0.59691907])), (45, array([ 0.26730868, -0.54916724])), (46, array([ 0.30106609, -0.56394666])), (47, array([-0.12624193, -0.52523996])), (48, array([-0.09706155, -0.58502287])), (49, array([-0.10461998, -0.49987766])), (50, array([-0.07322176, -0.5767556 ])), (51, array([-0.09562014, -0.55597588])), (52, array([-0.07735595,  0.01432903])), (53, array([ 0.00658497, -0.27940237])), (54, array([-0.05742575,  0.04980598])), (55, array([-0.31541661,  0.17763135])), (56, array([0.06341141, 0.12520747])), (57, array([0.04963037, 0.30572571])), (58, array([-0.01228859, -0.00451912])), (59, array([-0.04805862, -0.01759414])), (60, array([-0.26725207, -0.18100813])), (61, array([-0.33958503, -0.0064879 ])), (62, array([-0.06693944, -0.00809267])), (63, array([-0.17008868,  0.28329816])), (64, array([0.24817924, 0.10657528])), (65, array([ 0.2111091 , -0.10238409])), (66, array([-0.0275437 , -0.02427149])), (67, array([ 0.02839812, -0.36903898])), (68, array([0.00917677, 0.37099901])), (69, array([-0.34616454,  0.25177823])), (70, array([0.04729278, 0.08885485])), (71, array([-0.30807637, -0.17872138])), (72, array([-0.36848745, -0.03055031])), (73, array([0.28460206, 0.12881474])), (74, array([ 0.27073672, -0.16072045])), (75, array([-0.21318727,  0.35547915])), (76, array([ 0.00748785, -0.36965007])), (77, array([0.09474531, 0.37772586])), (78, array([-0.36345644,  0.25041017])), (79, array([0.08762856, 0.10034231])), (80, array([-0.29701069, -0.20695704])), (81, array([-0.37327286,  0.04032133])), (82, array([0.3244114, 0.1259367])), (83, array([ 0.24017368, -0.1685152 ])), (84, array([-0.19181461,  0.32761119])), (85, array([ 0.03560657, -0.3300959 ])), (86, array([0.11767102, 0.3308991 ])), (87, array([-0.3790674 ,  0.24402742])), (88, array([0.07076156, 0.08036546])), (89, array([-0.34660591, -0.22266008])), (90, array([-0.40600983, -0.01189085])), (91, array([0.30066509, 0.14813446])), (92, array([ 0.27720375, -0.07762803])), (93, array([-0.21164711,  0.33932998])), (94, array([ 0.06007155, -0.28323324])), (95, array([0.06532036, 0.39036057])), (96, array([-0.35678691,  0.19719888])), (97, array([0.09408701, 0.14136586])), (98, array([-0.34899497, -0.18853107])), (99, array([-0.40520057,  0.0356747 ])), (100, array([0.30653925, 0.13262155])), (101, array([ 0.26950947, -0.14312205])), (102, array([-0.13947439,  0.32986755])), (103, array([-0.18684302,  0.34180351])), (104, array([ 0.01684751, -0.32979291])), (105, array([0.02771591, 0.36443153])), (106, array([-0.39395541,  0.22191206])), (107, array([0.09708081, 0.18021811])), (108, array([-0.33727261, -0.17616569])), (109, array([-0.42870498, -0.02563484])), (110, array([0.28332869, 0.06761365])), (111, array([ 0.1924227 , -0.13565221])), (112, array([-0.16590535,  0.33960425])), (113, array([-0.03765368, -0.32331368])), (114, array([0.03621545, 0.3860333 ])), (115, array([-0.36879661,  0.15554531])), (116, array([0.02707943, 0.10821882])), (117, array([-0.31891382, -0.21462264])), (118, array([-0.4163531 ,  0.02280169])), (119, array([0.32738367, 0.10424553])), (120, array([ 0.2568364 , -0.16861077])), (121, array([-0.18241338,  0.35629376])), (122, array([-0.02789024, -0.35678914])), (123, array([0.07560696, 0.3449684 ])), (124, array([-0.37349315,  0.18570224])), (125, array([0.11382098, 0.09938088])), (126, array([-0.26739296, -0.25131536])), (127, array([-0.38427886, -0.04584759])), (128, array([0.30873569, 0.11311008])), (129, array([ 0.23649991, -0.07251783])), (130, array([-0.21639584,  0.2929038 ])), (131, array([ 0.04664158, -0.35461962])), (132, array([0.0991423 , 0.33446005])), (133, array([ 0.03207451, -0.3512825 ])), (134, array([-0.35498664,  0.21910273])), (135, array([0.11893318, 0.16333231])), (136, array([-0.33590985, -0.20246645])), (137, array([-0.40614663, -0.05804244])), (138, array([0.2706125 , 0.14786343])), (139, array([ 0.23132491, -0.15227469])), (140, array([-0.19406843,  0.30983596])), (141, array([ 0.0148221 , -0.35575001])), (142, array([0.09835404, 0.3161663 ])), (143, array([-0.39037459,  0.23392042])), (144, array([0.04586026, 0.16137907])), (145, array([-0.29517362, -0.22709417])), (146, array([-0.37077737,  0.01765794])), (147, array([0.32193398, 0.07435779])), (148, array([ 0.28547291, -0.14878826])), (149, array([-0.21597379,  0.31400551])), (150, array([ 0.06448939, -0.32719104])), (151, array([0.09502281, 0.35278108])), (152, array([-0.32621775,  0.24024801])), (153, array([0.07786584, 0.18524771])), (154, array([-0.29601421, -0.24532721])), (155, array([-0.42872761,  0.00666647])), (156, array([0.33329876, 0.08918295])), (157, array([ 0.25127624, -0.14471122])), (158, array([-0.17068212,  0.36857389])), (159, array([-0.01391174, -0.35113219])), (160, array([0.04660712, 0.3660574 ])), (161, array([-0.35757522,  0.17130361])), (162, array([0.01955765, 0.16250205])), (163, array([-0.33730467, -0.24060946])), (164, array([-0.38900485,  0.03462505])), (165, array([0.31409346, 0.09144564])), (166, array([ 0.24692846, -0.09833397])), (167, array([-0.23447991,  0.29364982])), (168, array([ 0.20676391, -0.1517426 ])), (169, array([ 0.06945572, -0.30392231])), (170, array([0.00390046, 0.35350264])), (171, array([-0.40016918,  0.17148788])), (172, array([0.11980928, 0.14317904])), (173, array([-0.32114887, -0.19350594])), (174, array([-3.91790314e-01,  1.99192602e-04])), (175, array([0.29651526, 0.08207386])), (176, array([ 0.28298495, -0.13142889])), (177, array([-0.22878727,  0.35215375])), (178, array([ 0.04380748, -0.31810838])), (179, array([0.06240847, 0.37281547])), (180, array([-0.37285133,  0.21102503])), (181, array([0.07513952, 0.16362963])), (182, array([-0.27611438, -0.23858536])), (183, array([-0.42522492, -0.01045217])), (184, array([0.26625614, 0.16768253])), (185, array([ 0.25846186, -0.07116385])), (186, array([-0.20603517,  0.36721878])), (187, array([-0.00492949, -0.30966489])), (188, array([0.02859924, 0.34388523])), (189, array([-0.33170688,  0.2186121 ])), (190, array([0.03766818, 0.17897357])), (191, array([-0.33078759, -0.22684143])), (192, array([-0.41438076,  0.00552913])), (193, array([0.33128061, 0.13905985])), (194, array([ 0.29687859, -0.12651077])), (195, array([-0.19039953,  0.36889941])), (196, array([ 0.00203771, -0.34251935])), (197, array([0.07959624, 0.36650162])), (198, array([-0.40451361,  0.19014541])), (199, array([0.05842538, 0.18371647])), (200, array([-0.30762466, -0.25830567])), (201, array([-0.38830059, -0.02091527])), (202, array([0.29442614, 0.17331077])), (203, array([ 0.27742801, -0.11261429])), (204, array([-0.15761492,  0.3572446 ])), (205, array([ 0.02899506, -0.29679427])), (206, array([0.05579546, 0.34502653])), (207, array([-0.34557895,  0.23595285])), (208, array([0.10671168, 0.11918006])), (209, array([-0.31416127, -0.23594051])), (210, array([-0.36442002, -0.05616141])), (211, array([0.28420359, 0.16223411])), (212, array([ 0.23098206, -0.12861959])), (213, array([-0.21073051,  0.27266414])), (214, array([-0.00802   , -0.36466149])), (215, array([0.04956769, 0.39137864])), (216, array([-0.36894774,  0.2315858 ])), (217, array([0.01187171, 0.13690911])), (218, array([-0.35210486, -0.20681863])), (219, array([-0.38605301, -0.0634514 ])), (220, array([0.30935426, 0.16361459])), (221, array([ 0.26702259, -0.09457545])), (222, array([-0.22618677,  0.32706846])), (223, array([-0.1447259 ,  0.34901093])), (224, array([ 0.05744989, -0.34312087])), (225, array([0.0214249 , 0.38336585])), (226, array([-0.39337433,  0.19878616])), (227, array([0.03218148, 0.13719765])), (228, array([-0.28784254, -0.2599726 ])), (229, array([-0.41142626, -0.0284863 ])), (230, array([0.33767299, 0.11550714])), (231, array([ 0.28811957, -0.0922148 ])), (232, array([-0.15563715,  0.31854274])), (233, array([-0.02804247, -0.29971448])), (234, array([0.10672496, 0.36713135])), (235, array([-0.39537014,  0.21064381])), (236, array([0.09671541, 0.08166198])), (237, array([-0.32264048, -0.25069524])), (238, array([-0.40111891, -0.04188171])), (239, array([0.28958584, 0.10219567])), (240, array([ 0.26009193, -0.12255576])), (241, array([-0.23952195,  0.31304714])), (242, array([-0.03637416, -0.34190247])), (243, array([0.00800116, 0.335351  ])), (244, array([-0.38778048,  0.18193752])), (245, array([0.12502109, 0.12480064])), (246, array([-0.32265366, -0.16458357])), (247, array([-0.419524  , -0.04387819])), (248, array([0.30610515, 0.06445727])), (249, array([ 0.2946588 , -0.10798967])), (250, array([-0.23777431,  0.33512601])), (251, array([-0.01732282, -0.32906518])), (252, array([0.08090913, 0.3865216 ])), (253, array([0.11454015, 0.3511208 ])), (254, array([-0.38607697,  0.1594148 ])), (255, array([0.10174362, 0.16226149])), (256, array([-0.2630671 , -0.22405292])), (257, array([-0.39623645,  0.01725458])), (258, array([0.32120068, 0.15187744])), (259, array([ 0.21793931, -0.16779876])), (260, array([0.47288991, 0.32864855])), (261, array([0.18536004, 0.59463745])), (262, array([0.20932967, 0.5670454 ])), (263, array([0.4716291 , 0.27208007])), (264, array([0.14937238, 0.56148905])), (265, array([0.13428557, 0.58173615])), (266, array([0.45429814, 0.3411828 ])), (267, array([0.20140645, 0.59112063])), (268, array([0.17437168, 0.57117253])), (269, array([0.48905093, 0.33904967])), (270, array([0.15322308, 0.59497968])), (271, array([0.22332008, 0.55159299])), (272, array([0.48832727, 0.27677915])), (273, array([0.49167956, 0.29202378])), (274, array([0.17023673, 0.59335957])), (275, array([0.46393383, 0.36153599])), (276, array([0.47546918, 0.34912757])), (277, array([0.15388769, 0.57857068])), (278, array([0.46928712, 0.31313763])), (279, array([0.49319066, 0.32118771])), (280, array([0.21837115, 0.58411147])), (281, array([0.44561554, 0.36191234])), (282, array([0.49468426, 0.3059018 ])), (283, array([0.19223162, 0.57077674])), (284, array([0.47057485, 0.29322003])), (285, array([0.2306615, 0.5681197])), (286, array([0.12834562, 0.56424695])), (287, array([0.16922506, 0.26108996])), (288, array([0.4138089 , 0.30113839])), (289, array([0.21936865, 0.30857842])), (290, array([0.17386893, 0.51386774])), (291, array([-0.11114387, -0.32980201])), (292, array([-0.11547475, -0.27637311])), (293, array([-0.11574356, -0.34805478])), (294, array([-0.06924734, -0.27567899])), (295, array([-0.13370247, -0.30842502])), (296, array([-0.13086974, -0.28788078])), (297, array([-0.13320257, -0.32431663])), (298, array([-0.11152288, -0.30412827])), (299, array([-0.09591918, -0.27190157])), (300, array([-0.07776211, -0.30106352]))])\n"
     ]
    }
   ],
   "source": [
    "print(pos_nodes[0])\n",
    "print(pos_nodes.items())\n"
   ]
  },
  {
   "cell_type": "code",
   "execution_count": 37,
   "metadata": {},
   "outputs": [
    {
     "data": {
      "text/plain": [
       "19"
      ]
     },
     "execution_count": 37,
     "metadata": {},
     "output_type": "execute_result"
    }
   ],
   "source": [
    "len(managers[managers['manager_name']=='Janet King'])"
   ]
  },
  {
   "cell_type": "code",
   "execution_count": 38,
   "metadata": {},
   "outputs": [
    {
     "data": {
      "text/plain": [
       "1"
      ]
     },
     "execution_count": 38,
     "metadata": {},
     "output_type": "execute_result"
    }
   ],
   "source": [
    "classes[73]"
   ]
  },
  {
   "cell_type": "code",
   "execution_count": null,
   "metadata": {
    "collapsed": true
   },
   "outputs": [],
   "source": [
    "# 5. Investigate level of diversity in company"
   ]
  },
  {
   "cell_type": "code",
   "execution_count": null,
   "metadata": {},
   "outputs": [],
   "source": []
  },
  {
   "cell_type": "code",
   "execution_count": null,
   "metadata": {},
   "outputs": [],
   "source": []
  }
 ],
 "metadata": {
  "kernelspec": {
   "display_name": "Python 3",
   "language": "python",
   "name": "python3"
  },
  "language_info": {
   "codemirror_mode": {
    "name": "ipython",
    "version": 3
   },
   "file_extension": ".py",
   "mimetype": "text/x-python",
   "name": "python",
   "nbconvert_exporter": "python",
   "pygments_lexer": "ipython3",
   "version": "3.7.2"
  }
 },
 "nbformat": 4,
 "nbformat_minor": 2
}
